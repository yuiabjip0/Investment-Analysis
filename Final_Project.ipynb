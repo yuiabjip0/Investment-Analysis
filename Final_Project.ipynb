{
 "cells": [
  {
   "cell_type": "code",
   "execution_count": 1,
   "metadata": {
    "id": "FCsUufsK6N6w"
   },
   "outputs": [],
   "source": [
    "import pandas as pd"
   ]
  },
  {
   "cell_type": "markdown",
   "metadata": {},
   "source": [
    "# Part 1. Investment Analysis"
   ]
  },
  {
   "cell_type": "markdown",
   "metadata": {
    "id": "lmtUgJfPBHUp"
   },
   "source": [
    "## 1.a. How many companies have received at least one round of investment?"
   ]
  },
  {
   "cell_type": "code",
   "execution_count": 2,
   "metadata": {
    "id": "bg8WoZJ26u48"
   },
   "outputs": [],
   "source": [
    "df_investment = pd.read_excel('/Users/jieyuan/Desktop/python/final project/2324MBD41_Project_Dataset-v01.xlsx',sheet_name = 'INVESTMENT')"
   ]
  },
  {
   "cell_type": "code",
   "execution_count": 3,
   "metadata": {
    "colab": {
     "base_uri": "https://localhost:8080/",
     "height": 206
    },
    "id": "lnROs3157UNa",
    "outputId": "ec5d88bb-1832-4475-ad56-fb9ecc0211fe",
    "scrolled": false
   },
   "outputs": [
    {
     "data": {
      "text/html": [
       "<div>\n",
       "<style scoped>\n",
       "    .dataframe tbody tr th:only-of-type {\n",
       "        vertical-align: middle;\n",
       "    }\n",
       "\n",
       "    .dataframe tbody tr th {\n",
       "        vertical-align: top;\n",
       "    }\n",
       "\n",
       "    .dataframe thead th {\n",
       "        text-align: right;\n",
       "    }\n",
       "</style>\n",
       "<table border=\"1\" class=\"dataframe\">\n",
       "  <thead>\n",
       "    <tr style=\"text-align: right;\">\n",
       "      <th></th>\n",
       "      <th>COMPANY_NAME</th>\n",
       "      <th>FUNDING_TYPE</th>\n",
       "      <th>MONEY_RAISED</th>\n",
       "      <th>ANNOUNCED_DATE</th>\n",
       "      <th>INVESTMENT_STAGE</th>\n",
       "    </tr>\n",
       "  </thead>\n",
       "  <tbody>\n",
       "    <tr>\n",
       "      <th>0</th>\n",
       "      <td>Pipe</td>\n",
       "      <td>Venture - Series Unknown</td>\n",
       "      <td>$250,000,000</td>\n",
       "      <td>Mar 31, 2021</td>\n",
       "      <td>—</td>\n",
       "    </tr>\n",
       "    <tr>\n",
       "      <th>1</th>\n",
       "      <td>Pipe</td>\n",
       "      <td>Series A</td>\n",
       "      <td>$50,000,000</td>\n",
       "      <td>Mar 9, 2021</td>\n",
       "      <td>Early Stage Venture</td>\n",
       "    </tr>\n",
       "    <tr>\n",
       "      <th>2</th>\n",
       "      <td>Pipe</td>\n",
       "      <td>Seed</td>\n",
       "      <td>$6,000,000</td>\n",
       "      <td>Feb 25, 2020</td>\n",
       "      <td>Seed</td>\n",
       "    </tr>\n",
       "    <tr>\n",
       "      <th>3</th>\n",
       "      <td>Pipe</td>\n",
       "      <td>Seed</td>\n",
       "      <td>$10,000,000</td>\n",
       "      <td>Jun 24, 2020</td>\n",
       "      <td>Seed</td>\n",
       "    </tr>\n",
       "    <tr>\n",
       "      <th>4</th>\n",
       "      <td>Epic Games</td>\n",
       "      <td>Seed</td>\n",
       "      <td>$1,000,000,000</td>\n",
       "      <td>Apr 13, 2021</td>\n",
       "      <td>Seed</td>\n",
       "    </tr>\n",
       "  </tbody>\n",
       "</table>\n",
       "</div>"
      ],
      "text/plain": [
       "  COMPANY_NAME              FUNDING_TYPE    MONEY_RAISED ANNOUNCED_DATE  \\\n",
       "0         Pipe  Venture - Series Unknown    $250,000,000   Mar 31, 2021   \n",
       "1         Pipe                  Series A     $50,000,000    Mar 9, 2021   \n",
       "2         Pipe                      Seed      $6,000,000   Feb 25, 2020   \n",
       "3         Pipe                      Seed     $10,000,000   Jun 24, 2020   \n",
       "4   Epic Games                      Seed  $1,000,000,000   Apr 13, 2021   \n",
       "\n",
       "      INVESTMENT_STAGE  \n",
       "0                    —  \n",
       "1  Early Stage Venture  \n",
       "2                 Seed  \n",
       "3                 Seed  \n",
       "4                 Seed  "
      ]
     },
     "execution_count": 3,
     "metadata": {},
     "output_type": "execute_result"
    }
   ],
   "source": [
    "df_investment.head()"
   ]
  },
  {
   "cell_type": "code",
   "execution_count": 4,
   "metadata": {
    "colab": {
     "base_uri": "https://localhost:8080/"
    },
    "id": "b2rm0d9xAZ-C",
    "outputId": "b763096c-65cd-4f78-d6a6-4532df443114"
   },
   "outputs": [
    {
     "data": {
      "text/plain": [
       "INVESTMENT_STAGE\n",
       "—                      1766\n",
       "Early Stage Venture    1555\n",
       "Late Stage Venture     1492\n",
       "Seed                    954\n",
       "Private Equity          170\n",
       "Name: count, dtype: int64"
      ]
     },
     "execution_count": 4,
     "metadata": {},
     "output_type": "execute_result"
    }
   ],
   "source": [
    "# What types of INVESTMENT_STAGES in this excel? and how many for each stage?\n",
    "df3 = df_investment['INVESTMENT_STAGE'].value_counts()\n",
    "df3"
   ]
  },
  {
   "cell_type": "code",
   "execution_count": 5,
   "metadata": {
    "colab": {
     "base_uri": "https://localhost:8080/",
     "height": 424
    },
    "id": "BVdeVVBGJj3X",
    "outputId": "cecbf0ed-908f-4789-91da-cfdcdb431119"
   },
   "outputs": [
    {
     "data": {
      "text/html": [
       "<div>\n",
       "<style scoped>\n",
       "    .dataframe tbody tr th:only-of-type {\n",
       "        vertical-align: middle;\n",
       "    }\n",
       "\n",
       "    .dataframe tbody tr th {\n",
       "        vertical-align: top;\n",
       "    }\n",
       "\n",
       "    .dataframe thead th {\n",
       "        text-align: right;\n",
       "    }\n",
       "</style>\n",
       "<table border=\"1\" class=\"dataframe\">\n",
       "  <thead>\n",
       "    <tr style=\"text-align: right;\">\n",
       "      <th></th>\n",
       "      <th>COMPANY_NAME</th>\n",
       "      <th>FUNDING_TYPE</th>\n",
       "      <th>MONEY_RAISED</th>\n",
       "      <th>ANNOUNCED_DATE</th>\n",
       "      <th>INVESTMENT_STAGE</th>\n",
       "    </tr>\n",
       "  </thead>\n",
       "  <tbody>\n",
       "    <tr>\n",
       "      <th>1</th>\n",
       "      <td>Pipe</td>\n",
       "      <td>Series A</td>\n",
       "      <td>$50,000,000</td>\n",
       "      <td>Mar 9, 2021</td>\n",
       "      <td>Early Stage Venture</td>\n",
       "    </tr>\n",
       "    <tr>\n",
       "      <th>2</th>\n",
       "      <td>Pipe</td>\n",
       "      <td>Seed</td>\n",
       "      <td>$6,000,000</td>\n",
       "      <td>Feb 25, 2020</td>\n",
       "      <td>Seed</td>\n",
       "    </tr>\n",
       "    <tr>\n",
       "      <th>3</th>\n",
       "      <td>Pipe</td>\n",
       "      <td>Seed</td>\n",
       "      <td>$10,000,000</td>\n",
       "      <td>Jun 24, 2020</td>\n",
       "      <td>Seed</td>\n",
       "    </tr>\n",
       "    <tr>\n",
       "      <th>4</th>\n",
       "      <td>Epic Games</td>\n",
       "      <td>Seed</td>\n",
       "      <td>$1,000,000,000</td>\n",
       "      <td>Apr 13, 2021</td>\n",
       "      <td>Seed</td>\n",
       "    </tr>\n",
       "    <tr>\n",
       "      <th>10</th>\n",
       "      <td>Brex</td>\n",
       "      <td>Series D</td>\n",
       "      <td>$425,000,000</td>\n",
       "      <td>Apr 26, 2021</td>\n",
       "      <td>Late Stage Venture</td>\n",
       "    </tr>\n",
       "    <tr>\n",
       "      <th>...</th>\n",
       "      <td>...</td>\n",
       "      <td>...</td>\n",
       "      <td>...</td>\n",
       "      <td>...</td>\n",
       "      <td>...</td>\n",
       "    </tr>\n",
       "    <tr>\n",
       "      <th>5922</th>\n",
       "      <td>Amperity</td>\n",
       "      <td>Series C</td>\n",
       "      <td>$50,000,000</td>\n",
       "      <td>Jul 15, 2019</td>\n",
       "      <td>Late Stage Venture</td>\n",
       "    </tr>\n",
       "    <tr>\n",
       "      <th>5923</th>\n",
       "      <td>Medium</td>\n",
       "      <td>Series A</td>\n",
       "      <td>$25,000,000</td>\n",
       "      <td>Jan 28, 2014</td>\n",
       "      <td>Early Stage Venture</td>\n",
       "    </tr>\n",
       "    <tr>\n",
       "      <th>5924</th>\n",
       "      <td>Medium</td>\n",
       "      <td>Series B</td>\n",
       "      <td>$57,000,000</td>\n",
       "      <td>Sep 29, 2015</td>\n",
       "      <td>Early Stage Venture</td>\n",
       "    </tr>\n",
       "    <tr>\n",
       "      <th>5925</th>\n",
       "      <td>Medium</td>\n",
       "      <td>Series C</td>\n",
       "      <td>$50,000,000</td>\n",
       "      <td>Apr 21, 2016</td>\n",
       "      <td>Late Stage Venture</td>\n",
       "    </tr>\n",
       "    <tr>\n",
       "      <th>5931</th>\n",
       "      <td>QueQ</td>\n",
       "      <td>Series A</td>\n",
       "      <td>$2,800,000</td>\n",
       "      <td>Mar 29, 2019</td>\n",
       "      <td>Early Stage Venture</td>\n",
       "    </tr>\n",
       "  </tbody>\n",
       "</table>\n",
       "<p>4171 rows × 5 columns</p>\n",
       "</div>"
      ],
      "text/plain": [
       "     COMPANY_NAME FUNDING_TYPE    MONEY_RAISED ANNOUNCED_DATE  \\\n",
       "1            Pipe     Series A     $50,000,000    Mar 9, 2021   \n",
       "2            Pipe         Seed      $6,000,000   Feb 25, 2020   \n",
       "3            Pipe         Seed     $10,000,000   Jun 24, 2020   \n",
       "4      Epic Games         Seed  $1,000,000,000   Apr 13, 2021   \n",
       "10           Brex     Series D    $425,000,000   Apr 26, 2021   \n",
       "...           ...          ...             ...            ...   \n",
       "5922     Amperity     Series C     $50,000,000   Jul 15, 2019   \n",
       "5923       Medium     Series A     $25,000,000   Jan 28, 2014   \n",
       "5924       Medium     Series B     $57,000,000   Sep 29, 2015   \n",
       "5925       Medium     Series C     $50,000,000   Apr 21, 2016   \n",
       "5931         QueQ     Series A      $2,800,000   Mar 29, 2019   \n",
       "\n",
       "         INVESTMENT_STAGE  \n",
       "1     Early Stage Venture  \n",
       "2                    Seed  \n",
       "3                    Seed  \n",
       "4                    Seed  \n",
       "10     Late Stage Venture  \n",
       "...                   ...  \n",
       "5922   Late Stage Venture  \n",
       "5923  Early Stage Venture  \n",
       "5924  Early Stage Venture  \n",
       "5925   Late Stage Venture  \n",
       "5931  Early Stage Venture  \n",
       "\n",
       "[4171 rows x 5 columns]"
      ]
     },
     "execution_count": 5,
     "metadata": {},
     "output_type": "execute_result"
    }
   ],
   "source": [
    "# for investment stage is \"-\", it doesn't have investment\n",
    "filt_df = df_investment[df_investment['INVESTMENT_STAGE'] != '—']           # do not contain INVESTMENT_STAGE = \"—\"\n",
    "filt_df"
   ]
  },
  {
   "cell_type": "code",
   "execution_count": 6,
   "metadata": {
    "colab": {
     "base_uri": "https://localhost:8080/"
    },
    "id": "5Lq6tVkvLIRl",
    "outputId": "d8b68713-03dc-4713-a143-853a39621df1"
   },
   "outputs": [
    {
     "data": {
      "text/plain": [
       "828"
      ]
     },
     "execution_count": 6,
     "metadata": {},
     "output_type": "execute_result"
    }
   ],
   "source": [
    "# Count the number of companies with at least one round of investment\n",
    "num_companies_with_investment = filt_df['COMPANY_NAME'].nunique()\n",
    "num_companies_with_investment"
   ]
  },
  {
   "cell_type": "code",
   "execution_count": 7,
   "metadata": {
    "colab": {
     "base_uri": "https://localhost:8080/"
    },
    "id": "ooC8wAn5L5Dd",
    "outputId": "dc66c349-eaa6-4958-8263-a151dec5a2c8"
   },
   "outputs": [
    {
     "name": "stdout",
     "output_type": "stream",
     "text": [
      "828 companies received at least one round of investment\n"
     ]
    }
   ],
   "source": [
    "print(f\"{num_companies_with_investment} companies received at least one round of investment\")"
   ]
  },
  {
   "cell_type": "code",
   "execution_count": null,
   "metadata": {
    "id": "SwOb9RbjM2bi"
   },
   "outputs": [],
   "source": []
  },
  {
   "cell_type": "markdown",
   "metadata": {},
   "source": [
    "## 1.b. Total Investment Received by Companies in each Category (Top 10)"
   ]
  },
  {
   "cell_type": "markdown",
   "metadata": {},
   "source": [
    "Companies receive different currency. In order to solve this question, we first need to unify currencies. \n",
    "\n",
    "Make them all into $"
   ]
  },
  {
   "cell_type": "code",
   "execution_count": 8,
   "metadata": {},
   "outputs": [
    {
     "name": "stdout",
     "output_type": "stream",
     "text": [
      "['$' '—' '€' '¥' '₹' '£' 'CA$' 'A$' 'CN¥' 'R$' 'ZAR' 'SGD' '₩' 'CHF' 'MYR'\n",
      " 'SEK' 'RUB']\n"
     ]
    }
   ],
   "source": [
    "# check what kind of currencies they have in this dataset, and find conversion rate from internet.\n",
    "# Extracting non-numeric leading characters (currency symbols)\n",
    "df_investment['CURRENCY_SYMBOL'] = df_investment['MONEY_RAISED'].str.extract(r'([^0-9,]+)')\n",
    "\n",
    "# Identifying unique currency symbols\n",
    "unique_currencies = df_investment['CURRENCY_SYMBOL'].unique()\n",
    "\n",
    "print(unique_currencies)"
   ]
  },
  {
   "cell_type": "code",
   "execution_count": 9,
   "metadata": {},
   "outputs": [],
   "source": [
    "exchange_rates = {'$': 1, '-': 1, '€':1.2, '¥':0.008, '₹':0.014, '£': 1.4, 'CA$': 0.8, 'A$':0.7, 'CN¥':0.15, \n",
    "                  'R$':0.2, 'ZAR':0.06, 'SGD':0.7, '₩':0.0008, 'CHF':1, 'MYR':0.24,'SEK':0.11, 'RUB':0.014}"
   ]
  },
  {
   "cell_type": "code",
   "execution_count": 10,
   "metadata": {},
   "outputs": [],
   "source": [
    "import re\n",
    "# define a function to convert currencies\n",
    "def convert_to_usd(amount):\n",
    "    # Extract currency symbol and numeric part\n",
    "    match = re.match(r'([€$£CA$₹]+)([\\d,]+)', amount)\n",
    "    if match:\n",
    "        currency_symbol, numeric_part = match.groups()\n",
    "        numeric_value = float(numeric_part.replace(',', ''))\n",
    "        return numeric_value * exchange_rates.get(currency_symbol, 1)\n",
    "    return 0"
   ]
  },
  {
   "cell_type": "code",
   "execution_count": 11,
   "metadata": {},
   "outputs": [],
   "source": [
    "# Applying the conversion to each value in 'MONEY_RAISED'\n",
    "df_investment['MONEY_RAISED_USD'] = df_investment['MONEY_RAISED'].apply(convert_to_usd)"
   ]
  },
  {
   "cell_type": "code",
   "execution_count": 12,
   "metadata": {},
   "outputs": [],
   "source": [
    "df_company = pd.read_excel('/Users/jieyuan/Desktop/python/final project/2324MBD41_Project_Dataset-v01.xlsx',sheet_name = 'COMPANY')"
   ]
  },
  {
   "cell_type": "code",
   "execution_count": 13,
   "metadata": {},
   "outputs": [
    {
     "data": {
      "text/html": [
       "<div>\n",
       "<style scoped>\n",
       "    .dataframe tbody tr th:only-of-type {\n",
       "        vertical-align: middle;\n",
       "    }\n",
       "\n",
       "    .dataframe tbody tr th {\n",
       "        vertical-align: top;\n",
       "    }\n",
       "\n",
       "    .dataframe thead th {\n",
       "        text-align: right;\n",
       "    }\n",
       "</style>\n",
       "<table border=\"1\" class=\"dataframe\">\n",
       "  <thead>\n",
       "    <tr style=\"text-align: right;\">\n",
       "      <th></th>\n",
       "      <th>COMPANY_NAME</th>\n",
       "      <th>CATEGORY</th>\n",
       "      <th>LOCATION</th>\n",
       "      <th>FOUNDED_ON</th>\n",
       "      <th>EXITED_ON</th>\n",
       "      <th>CLOSED_ON</th>\n",
       "      <th>REVENU_RANGE</th>\n",
       "      <th>EMPLOYEE_NUMBER</th>\n",
       "    </tr>\n",
       "  </thead>\n",
       "  <tbody>\n",
       "    <tr>\n",
       "      <th>0</th>\n",
       "      <td>Twitter</td>\n",
       "      <td>Blogging Platforms, Messaging, SMS, Social Media</td>\n",
       "      <td>San Francisco, California, United States</td>\n",
       "      <td>Mar 21, 2006</td>\n",
       "      <td>Nov 7, 2013</td>\n",
       "      <td>—</td>\n",
       "      <td>$1B to $10B</td>\n",
       "      <td>1001-5000</td>\n",
       "    </tr>\n",
       "    <tr>\n",
       "      <th>1</th>\n",
       "      <td>Ant Group</td>\n",
       "      <td>Banking, E-Commerce, Financial Services, FinTe...</td>\n",
       "      <td>Hangzhou, Zhejiang, China</td>\n",
       "      <td>Oct 2014</td>\n",
       "      <td>—</td>\n",
       "      <td>—</td>\n",
       "      <td>$100M to $500M</td>\n",
       "      <td>5001-10000</td>\n",
       "    </tr>\n",
       "    <tr>\n",
       "      <th>2</th>\n",
       "      <td>Squire</td>\n",
       "      <td>Consumer, FinTech, Mobile Apps, Point of Sale,...</td>\n",
       "      <td>New York, New York, United States</td>\n",
       "      <td>2016</td>\n",
       "      <td>—</td>\n",
       "      <td>—</td>\n",
       "      <td>$1M to $10M</td>\n",
       "      <td>51-100</td>\n",
       "    </tr>\n",
       "    <tr>\n",
       "      <th>3</th>\n",
       "      <td>Xiaomi</td>\n",
       "      <td>Consumer Electronics, Internet, Mobile</td>\n",
       "      <td>Beijing, Beijing, China</td>\n",
       "      <td>Apr 4, 2010</td>\n",
       "      <td>Jul 9, 2018</td>\n",
       "      <td>—</td>\n",
       "      <td>$10B+</td>\n",
       "      <td>10001+</td>\n",
       "    </tr>\n",
       "    <tr>\n",
       "      <th>4</th>\n",
       "      <td>maude</td>\n",
       "      <td>Consumer Goods, E-Commerce, Personal Health, W...</td>\n",
       "      <td>Brooklyn, New York, United States</td>\n",
       "      <td>2018</td>\n",
       "      <td>—</td>\n",
       "      <td>—</td>\n",
       "      <td>$1M to $10M</td>\n",
       "      <td>1-10</td>\n",
       "    </tr>\n",
       "  </tbody>\n",
       "</table>\n",
       "</div>"
      ],
      "text/plain": [
       "  COMPANY_NAME                                           CATEGORY  \\\n",
       "0      Twitter   Blogging Platforms, Messaging, SMS, Social Media   \n",
       "1    Ant Group  Banking, E-Commerce, Financial Services, FinTe...   \n",
       "2       Squire  Consumer, FinTech, Mobile Apps, Point of Sale,...   \n",
       "3       Xiaomi             Consumer Electronics, Internet, Mobile   \n",
       "4        maude  Consumer Goods, E-Commerce, Personal Health, W...   \n",
       "\n",
       "                                   LOCATION    FOUNDED_ON    EXITED_ON  \\\n",
       "0  San Francisco, California, United States  Mar 21, 2006  Nov 7, 2013   \n",
       "1                 Hangzhou, Zhejiang, China      Oct 2014            —   \n",
       "2         New York, New York, United States          2016            —   \n",
       "3                   Beijing, Beijing, China   Apr 4, 2010  Jul 9, 2018   \n",
       "4         Brooklyn, New York, United States          2018            —   \n",
       "\n",
       "  CLOSED_ON    REVENU_RANGE EMPLOYEE_NUMBER  \n",
       "0         —     $1B to $10B       1001-5000  \n",
       "1         —  $100M to $500M      5001-10000  \n",
       "2         —     $1M to $10M          51-100  \n",
       "3         —           $10B+          10001+  \n",
       "4         —     $1M to $10M            1-10  "
      ]
     },
     "execution_count": 13,
     "metadata": {},
     "output_type": "execute_result"
    }
   ],
   "source": [
    "df_company.head()"
   ]
  },
  {
   "cell_type": "markdown",
   "metadata": {},
   "source": [
    "Split the Categories: For companies listed under multiple categories, split these into separate rows.\n",
    "\n",
    "Merge with Investment Data: Merge this expanded company data with the investment data.\n",
    "\n",
    "Calculate Total Investments by Category: Sum up the investments for each category."
   ]
  },
  {
   "cell_type": "code",
   "execution_count": 14,
   "metadata": {},
   "outputs": [],
   "source": [
    "# Splitting the CATEGORY column\n",
    "df_company_expanded = df_company.drop('CATEGORY', axis=1).join(\n",
    "    df_company['CATEGORY'].str.split(',', expand=True).stack().reset_index(level=1, drop=True).rename('CATEGORY')\n",
    ")"
   ]
  },
  {
   "cell_type": "code",
   "execution_count": 15,
   "metadata": {},
   "outputs": [],
   "source": [
    "# Merging the expanded company data with investment data\n",
    "df_merged = pd.merge(df_investment, df_company_expanded, on='COMPANY_NAME', how='inner')"
   ]
  },
  {
   "cell_type": "code",
   "execution_count": 16,
   "metadata": {},
   "outputs": [],
   "source": [
    "# Grouping by 'CATEGORY' and summing the investments\n",
    "total_investment_by_category = df_merged.groupby('CATEGORY')['MONEY_RAISED_USD'].sum()"
   ]
  },
  {
   "cell_type": "code",
   "execution_count": 22,
   "metadata": {},
   "outputs": [
    {
     "data": {
      "text/plain": [
       "CATEGORY\n",
       " 3D Technology            6.130000e+08\n",
       " Ad Retargeting           6.800000e+06\n",
       " Advertising              1.300000e+08\n",
       " Advertising Platforms    5.291000e+08\n",
       " Aerospace                6.857200e+08\n",
       "                              ...     \n",
       "Social Media              2.250000e+07\n",
       "Software                  1.700000e+07\n",
       "Subscription Service      4.050000e+06\n",
       "eSports                   3.193482e+07\n",
       "—                         1.276400e+09\n",
       "Name: MONEY_RAISED_USD, Length: 619, dtype: float64"
      ]
     },
     "execution_count": 22,
     "metadata": {},
     "output_type": "execute_result"
    }
   ],
   "source": [
    "total_investment_by_category"
   ]
  },
  {
   "cell_type": "markdown",
   "metadata": {},
   "source": [
    "There are so many categories, I want to see top 10 categories (which rec\"eived the most investment)"
   ]
  },
  {
   "cell_type": "code",
   "execution_count": 18,
   "metadata": {
    "scrolled": false
   },
   "outputs": [
    {
     "name": "stdout",
     "output_type": "stream",
     "text": [
      "CATEGORY\n",
      " Internet                  1.534624e+11\n",
      " Software                  1.216594e+11\n",
      " Transportation            8.025275e+10\n",
      " Financial Services        7.578684e+10\n",
      " FinTech                   6.952138e+10\n",
      " E-Commerce                6.204416e+10\n",
      " Information Technology    5.877912e+10\n",
      " Payments                  5.799009e+10\n",
      "Apps                       5.560761e+10\n",
      " Telecommunications        5.421890e+10\n",
      "Name: MONEY_RAISED_USD, dtype: float64\n"
     ]
    }
   ],
   "source": [
    "top_10_categories = total_investment_by_category.sort_values(ascending=False).head(10)\n",
    "\n",
    "# Displaying the top 10 categories\n",
    "print(top_10_categories)"
   ]
  },
  {
   "cell_type": "code",
   "execution_count": 19,
   "metadata": {},
   "outputs": [
    {
     "data": {
      "image/png": "[encoded data removed]",
      "text/plain": [
       "<Figure size 600x400 with 1 Axes>"
      ]
     },
     "metadata": {},
     "output_type": "display_data"
    }
   ],
   "source": [
    "import matplotlib.pyplot as plt\n",
    "\n",
    "# Convert the Series to a DataFrame for plotting\n",
    "investment_df = top_10_categories.reset_index()\n",
    "investment_df.columns = ['Category', 'Total Investment']\n",
    "\n",
    "# Sort the data for better visualization (optional: you can show top N categories)\n",
    "investment_df_sorted = investment_df.sort_values(by='Total Investment', ascending=False)\n",
    "\n",
    "# Plotting\n",
    "plt.figure(figsize=(6, 4))  \n",
    "plt.barh(investment_df_sorted['Category'], investment_df_sorted['Total Investment'])\n",
    "plt.xlabel('Total Investment in USD')\n",
    "plt.ylabel('Category')\n",
    "plt.title('Total Investment in Each Category (Top 10)')\n",
    "plt.gca().invert_yaxis()  # Invert y-axis to have the highest values at the top\n",
    "plt.show()"
   ]
  },
  {
   "cell_type": "markdown",
   "metadata": {},
   "source": [
    "From this graph, we can see internet is the category which received the most investment. In the top 10 categories, (Internet, Software, Fintech, E-Commerce, Information Technology, Apps) six of them are related to IT (or internet). \n",
    "\n",
    "\n",
    "\n",
    "Therefore, if you are looking for a job (or start up a company), internet-related industry is a good choice. (regarding the invested money)"
   ]
  },
  {
   "cell_type": "code",
   "execution_count": null,
   "metadata": {},
   "outputs": [],
   "source": []
  },
  {
   "cell_type": "markdown",
   "metadata": {},
   "source": [
    "## 1.c. Trends in Investment Amounts Over Time\n",
    "\n",
    "See the trend of amount of money invested and recorded."
   ]
  },
  {
   "cell_type": "code",
   "execution_count": 23,
   "metadata": {},
   "outputs": [],
   "source": [
    "# Convert dates to datetime objects\n",
    "df_investment['ANNOUNCED_DATE'] = pd.to_datetime(df_investment['ANNOUNCED_DATE'])\n",
    "\n",
    "# Group by year\n",
    "trends_over_time = df_investment.groupby(df_investment['ANNOUNCED_DATE'].dt.year)['MONEY_RAISED_USD'].sum()"
   ]
  },
  {
   "cell_type": "code",
   "execution_count": 24,
   "metadata": {
    "scrolled": true
   },
   "outputs": [
    {
     "data": {
      "text/plain": [
       "ANNOUNCED_DATE\n",
       "1968    2.510000e+06\n",
       "1977    8.000000e+04\n",
       "1978    1.500000e+05\n",
       "1982    0.000000e+00\n",
       "1983    0.000000e+00\n",
       "1987    7.500000e+06\n",
       "1996    2.000000e+05\n",
       "1997    2.565780e+05\n",
       "1998    2.826014e+07\n",
       "1999    6.680680e+08\n",
       "2000    3.703000e+08\n",
       "2001    5.621400e+09\n",
       "2002    1.240234e+08\n",
       "2003    6.973239e+08\n",
       "2004    4.080000e+08\n",
       "2005    2.071000e+08\n",
       "2006    6.542768e+08\n",
       "2007    1.102715e+09\n",
       "2008    7.938702e+08\n",
       "2009    5.724924e+09\n",
       "2010    1.057272e+09\n",
       "2011    1.257223e+10\n",
       "2012    7.628824e+09\n",
       "2013    1.237635e+10\n",
       "2014    6.005276e+10\n",
       "2015    3.590675e+10\n",
       "2016    3.842973e+10\n",
       "2017    6.945909e+10\n",
       "2018    9.849585e+10\n",
       "2019    7.128835e+10\n",
       "2020    1.494240e+11\n",
       "2021    6.027073e+10\n",
       "Name: MONEY_RAISED_USD, dtype: float64"
      ]
     },
     "execution_count": 24,
     "metadata": {},
     "output_type": "execute_result"
    }
   ],
   "source": [
    "trends_over_time"
   ]
  },
  {
   "cell_type": "markdown",
   "metadata": {},
   "source": [
    "### Now visualize the trend"
   ]
  },
  {
   "cell_type": "code",
   "execution_count": 25,
   "metadata": {
    "scrolled": true
   },
   "outputs": [
    {
     "data": {
      "image/png": "[encoded data removed]",
      "text/plain": [
       "<Figure size 600x400 with 1 Axes>"
      ]
     },
     "metadata": {},
     "output_type": "display_data"
    }
   ],
   "source": [
    "import matplotlib.pyplot as plt\n",
    "\n",
    "# Convert the Series to a DataFrame for easier plotting\n",
    "trends_df = trends_over_time.reset_index()\n",
    "trends_df.columns = ['Year', 'Total Investment']\n",
    "\n",
    "# Plotting\n",
    "plt.figure(figsize=(6, 4))\n",
    "plt.plot(trends_df['Year'], trends_df['Total Investment'], marker='o')\n",
    "plt.title('Trends in Investment Amounts Over Time')\n",
    "plt.xlabel('Year')\n",
    "plt.ylabel('Total Investment in USD')\n",
    "plt.grid(True)\n",
    "plt.show()"
   ]
  },
  {
   "cell_type": "markdown",
   "metadata": {},
   "source": [
    "From this graph, we see that the money invested in the market remained stable (almost nothing) until 2010. \n",
    "\n",
    "The invested money increased and reached to peak (more than 1.4 lell) in 2020."
   ]
  },
  {
   "cell_type": "code",
   "execution_count": null,
   "metadata": {},
   "outputs": [],
   "source": []
  },
  {
   "cell_type": "markdown",
   "metadata": {},
   "source": [
    "## 1.d. On average, how much money each company has received at Series A round?"
   ]
  },
  {
   "cell_type": "code",
   "execution_count": 26,
   "metadata": {
    "scrolled": true
   },
   "outputs": [
    {
     "data": {
      "text/html": [
       "<div>\n",
       "<style scoped>\n",
       "    .dataframe tbody tr th:only-of-type {\n",
       "        vertical-align: middle;\n",
       "    }\n",
       "\n",
       "    .dataframe tbody tr th {\n",
       "        vertical-align: top;\n",
       "    }\n",
       "\n",
       "    .dataframe thead th {\n",
       "        text-align: right;\n",
       "    }\n",
       "</style>\n",
       "<table border=\"1\" class=\"dataframe\">\n",
       "  <thead>\n",
       "    <tr style=\"text-align: right;\">\n",
       "      <th></th>\n",
       "      <th>COMPANY_NAME</th>\n",
       "      <th>FUNDING_TYPE</th>\n",
       "      <th>MONEY_RAISED</th>\n",
       "      <th>ANNOUNCED_DATE</th>\n",
       "      <th>INVESTMENT_STAGE</th>\n",
       "      <th>CURRENCY_SYMBOL</th>\n",
       "      <th>MONEY_RAISED_USD</th>\n",
       "      <th>LOCATION</th>\n",
       "      <th>FOUNDED_ON</th>\n",
       "      <th>EXITED_ON</th>\n",
       "      <th>CLOSED_ON</th>\n",
       "      <th>REVENU_RANGE</th>\n",
       "      <th>EMPLOYEE_NUMBER</th>\n",
       "      <th>CATEGORY</th>\n",
       "    </tr>\n",
       "  </thead>\n",
       "  <tbody>\n",
       "    <tr>\n",
       "      <th>0</th>\n",
       "      <td>Pipe</td>\n",
       "      <td>Venture - Series Unknown</td>\n",
       "      <td>$250,000,000</td>\n",
       "      <td>Mar 31, 2021</td>\n",
       "      <td>—</td>\n",
       "      <td>$</td>\n",
       "      <td>250000000.0</td>\n",
       "      <td>Los Angeles, California, United States</td>\n",
       "      <td>Aug 1, 2019</td>\n",
       "      <td>—</td>\n",
       "      <td>—</td>\n",
       "      <td>$1M to $10M</td>\n",
       "      <td>11-50</td>\n",
       "      <td>Finance</td>\n",
       "    </tr>\n",
       "    <tr>\n",
       "      <th>1</th>\n",
       "      <td>Pipe</td>\n",
       "      <td>Venture - Series Unknown</td>\n",
       "      <td>$250,000,000</td>\n",
       "      <td>Mar 31, 2021</td>\n",
       "      <td>—</td>\n",
       "      <td>$</td>\n",
       "      <td>250000000.0</td>\n",
       "      <td>Los Angeles, California, United States</td>\n",
       "      <td>Aug 1, 2019</td>\n",
       "      <td>—</td>\n",
       "      <td>—</td>\n",
       "      <td>$1M to $10M</td>\n",
       "      <td>11-50</td>\n",
       "      <td>Financial Services</td>\n",
       "    </tr>\n",
       "    <tr>\n",
       "      <th>2</th>\n",
       "      <td>Pipe</td>\n",
       "      <td>Venture - Series Unknown</td>\n",
       "      <td>$250,000,000</td>\n",
       "      <td>Mar 31, 2021</td>\n",
       "      <td>—</td>\n",
       "      <td>$</td>\n",
       "      <td>250000000.0</td>\n",
       "      <td>Los Angeles, California, United States</td>\n",
       "      <td>Aug 1, 2019</td>\n",
       "      <td>—</td>\n",
       "      <td>—</td>\n",
       "      <td>$1M to $10M</td>\n",
       "      <td>11-50</td>\n",
       "      <td>Internet</td>\n",
       "    </tr>\n",
       "    <tr>\n",
       "      <th>3</th>\n",
       "      <td>Pipe</td>\n",
       "      <td>Venture - Series Unknown</td>\n",
       "      <td>$250,000,000</td>\n",
       "      <td>Mar 31, 2021</td>\n",
       "      <td>—</td>\n",
       "      <td>$</td>\n",
       "      <td>250000000.0</td>\n",
       "      <td>Los Angeles, California, United States</td>\n",
       "      <td>Aug 1, 2019</td>\n",
       "      <td>—</td>\n",
       "      <td>—</td>\n",
       "      <td>$1M to $10M</td>\n",
       "      <td>11-50</td>\n",
       "      <td>SaaS</td>\n",
       "    </tr>\n",
       "    <tr>\n",
       "      <th>4</th>\n",
       "      <td>Pipe</td>\n",
       "      <td>Series A</td>\n",
       "      <td>$50,000,000</td>\n",
       "      <td>Mar 9, 2021</td>\n",
       "      <td>Early Stage Venture</td>\n",
       "      <td>$</td>\n",
       "      <td>50000000.0</td>\n",
       "      <td>Los Angeles, California, United States</td>\n",
       "      <td>Aug 1, 2019</td>\n",
       "      <td>—</td>\n",
       "      <td>—</td>\n",
       "      <td>$1M to $10M</td>\n",
       "      <td>11-50</td>\n",
       "      <td>Finance</td>\n",
       "    </tr>\n",
       "  </tbody>\n",
       "</table>\n",
       "</div>"
      ],
      "text/plain": [
       "  COMPANY_NAME              FUNDING_TYPE  MONEY_RAISED ANNOUNCED_DATE  \\\n",
       "0         Pipe  Venture - Series Unknown  $250,000,000   Mar 31, 2021   \n",
       "1         Pipe  Venture - Series Unknown  $250,000,000   Mar 31, 2021   \n",
       "2         Pipe  Venture - Series Unknown  $250,000,000   Mar 31, 2021   \n",
       "3         Pipe  Venture - Series Unknown  $250,000,000   Mar 31, 2021   \n",
       "4         Pipe                  Series A   $50,000,000    Mar 9, 2021   \n",
       "\n",
       "      INVESTMENT_STAGE CURRENCY_SYMBOL  MONEY_RAISED_USD  \\\n",
       "0                    —               $       250000000.0   \n",
       "1                    —               $       250000000.0   \n",
       "2                    —               $       250000000.0   \n",
       "3                    —               $       250000000.0   \n",
       "4  Early Stage Venture               $        50000000.0   \n",
       "\n",
       "                                 LOCATION   FOUNDED_ON EXITED_ON CLOSED_ON  \\\n",
       "0  Los Angeles, California, United States  Aug 1, 2019         —         —   \n",
       "1  Los Angeles, California, United States  Aug 1, 2019         —         —   \n",
       "2  Los Angeles, California, United States  Aug 1, 2019         —         —   \n",
       "3  Los Angeles, California, United States  Aug 1, 2019         —         —   \n",
       "4  Los Angeles, California, United States  Aug 1, 2019         —         —   \n",
       "\n",
       "  REVENU_RANGE EMPLOYEE_NUMBER             CATEGORY  \n",
       "0  $1M to $10M           11-50              Finance  \n",
       "1  $1M to $10M           11-50   Financial Services  \n",
       "2  $1M to $10M           11-50             Internet  \n",
       "3  $1M to $10M           11-50                 SaaS  \n",
       "4  $1M to $10M           11-50              Finance  "
      ]
     },
     "execution_count": 26,
     "metadata": {},
     "output_type": "execute_result"
    }
   ],
   "source": [
    "# In question 1.a, we have transfered all currencies to dollar signs. So now we can use that data. (use convert_to_usd function)\n",
    "df_merged.head()"
   ]
  },
  {
   "cell_type": "code",
   "execution_count": 27,
   "metadata": {
    "colab": {
     "base_uri": "https://localhost:8080/",
     "height": 206
    },
    "id": "M8R3kvc_uSUR",
    "outputId": "ef4bc434-3ddb-4047-856d-eb8c74def80a",
    "scrolled": false
   },
   "outputs": [
    {
     "data": {
      "text/html": [
       "<div>\n",
       "<style scoped>\n",
       "    .dataframe tbody tr th:only-of-type {\n",
       "        vertical-align: middle;\n",
       "    }\n",
       "\n",
       "    .dataframe tbody tr th {\n",
       "        vertical-align: top;\n",
       "    }\n",
       "\n",
       "    .dataframe thead th {\n",
       "        text-align: right;\n",
       "    }\n",
       "</style>\n",
       "<table border=\"1\" class=\"dataframe\">\n",
       "  <thead>\n",
       "    <tr style=\"text-align: right;\">\n",
       "      <th></th>\n",
       "      <th>COMPANY_NAME</th>\n",
       "      <th>FUNDING_TYPE</th>\n",
       "      <th>MONEY_RAISED</th>\n",
       "      <th>ANNOUNCED_DATE</th>\n",
       "      <th>INVESTMENT_STAGE</th>\n",
       "      <th>CURRENCY_SYMBOL</th>\n",
       "      <th>MONEY_RAISED_USD</th>\n",
       "      <th>LOCATION</th>\n",
       "      <th>FOUNDED_ON</th>\n",
       "      <th>EXITED_ON</th>\n",
       "      <th>CLOSED_ON</th>\n",
       "      <th>REVENU_RANGE</th>\n",
       "      <th>EMPLOYEE_NUMBER</th>\n",
       "      <th>CATEGORY</th>\n",
       "    </tr>\n",
       "  </thead>\n",
       "  <tbody>\n",
       "    <tr>\n",
       "      <th>4</th>\n",
       "      <td>Pipe</td>\n",
       "      <td>Series A</td>\n",
       "      <td>$50,000,000</td>\n",
       "      <td>Mar 9, 2021</td>\n",
       "      <td>Early Stage Venture</td>\n",
       "      <td>$</td>\n",
       "      <td>50000000.0</td>\n",
       "      <td>Los Angeles, California, United States</td>\n",
       "      <td>Aug 1, 2019</td>\n",
       "      <td>—</td>\n",
       "      <td>—</td>\n",
       "      <td>$1M to $10M</td>\n",
       "      <td>11-50</td>\n",
       "      <td>Finance</td>\n",
       "    </tr>\n",
       "    <tr>\n",
       "      <th>5</th>\n",
       "      <td>Pipe</td>\n",
       "      <td>Series A</td>\n",
       "      <td>$50,000,000</td>\n",
       "      <td>Mar 9, 2021</td>\n",
       "      <td>Early Stage Venture</td>\n",
       "      <td>$</td>\n",
       "      <td>50000000.0</td>\n",
       "      <td>Los Angeles, California, United States</td>\n",
       "      <td>Aug 1, 2019</td>\n",
       "      <td>—</td>\n",
       "      <td>—</td>\n",
       "      <td>$1M to $10M</td>\n",
       "      <td>11-50</td>\n",
       "      <td>Financial Services</td>\n",
       "    </tr>\n",
       "    <tr>\n",
       "      <th>6</th>\n",
       "      <td>Pipe</td>\n",
       "      <td>Series A</td>\n",
       "      <td>$50,000,000</td>\n",
       "      <td>Mar 9, 2021</td>\n",
       "      <td>Early Stage Venture</td>\n",
       "      <td>$</td>\n",
       "      <td>50000000.0</td>\n",
       "      <td>Los Angeles, California, United States</td>\n",
       "      <td>Aug 1, 2019</td>\n",
       "      <td>—</td>\n",
       "      <td>—</td>\n",
       "      <td>$1M to $10M</td>\n",
       "      <td>11-50</td>\n",
       "      <td>Internet</td>\n",
       "    </tr>\n",
       "    <tr>\n",
       "      <th>7</th>\n",
       "      <td>Pipe</td>\n",
       "      <td>Series A</td>\n",
       "      <td>$50,000,000</td>\n",
       "      <td>Mar 9, 2021</td>\n",
       "      <td>Early Stage Venture</td>\n",
       "      <td>$</td>\n",
       "      <td>50000000.0</td>\n",
       "      <td>Los Angeles, California, United States</td>\n",
       "      <td>Aug 1, 2019</td>\n",
       "      <td>—</td>\n",
       "      <td>—</td>\n",
       "      <td>$1M to $10M</td>\n",
       "      <td>11-50</td>\n",
       "      <td>SaaS</td>\n",
       "    </tr>\n",
       "    <tr>\n",
       "      <th>61</th>\n",
       "      <td>Brex</td>\n",
       "      <td>Series A</td>\n",
       "      <td>$7,000,000</td>\n",
       "      <td>Apr 1, 2017</td>\n",
       "      <td>Early Stage Venture</td>\n",
       "      <td>$</td>\n",
       "      <td>7000000.0</td>\n",
       "      <td>San Francisco, California, United States</td>\n",
       "      <td>Mar 2017</td>\n",
       "      <td>—</td>\n",
       "      <td>—</td>\n",
       "      <td>$10M to $50M</td>\n",
       "      <td>251-500</td>\n",
       "      <td>Accounting</td>\n",
       "    </tr>\n",
       "  </tbody>\n",
       "</table>\n",
       "</div>"
      ],
      "text/plain": [
       "   COMPANY_NAME FUNDING_TYPE MONEY_RAISED ANNOUNCED_DATE     INVESTMENT_STAGE  \\\n",
       "4          Pipe     Series A  $50,000,000    Mar 9, 2021  Early Stage Venture   \n",
       "5          Pipe     Series A  $50,000,000    Mar 9, 2021  Early Stage Venture   \n",
       "6          Pipe     Series A  $50,000,000    Mar 9, 2021  Early Stage Venture   \n",
       "7          Pipe     Series A  $50,000,000    Mar 9, 2021  Early Stage Venture   \n",
       "61         Brex     Series A   $7,000,000    Apr 1, 2017  Early Stage Venture   \n",
       "\n",
       "   CURRENCY_SYMBOL  MONEY_RAISED_USD  \\\n",
       "4                $        50000000.0   \n",
       "5                $        50000000.0   \n",
       "6                $        50000000.0   \n",
       "7                $        50000000.0   \n",
       "61               $         7000000.0   \n",
       "\n",
       "                                    LOCATION   FOUNDED_ON EXITED_ON CLOSED_ON  \\\n",
       "4     Los Angeles, California, United States  Aug 1, 2019         —         —   \n",
       "5     Los Angeles, California, United States  Aug 1, 2019         —         —   \n",
       "6     Los Angeles, California, United States  Aug 1, 2019         —         —   \n",
       "7     Los Angeles, California, United States  Aug 1, 2019         —         —   \n",
       "61  San Francisco, California, United States     Mar 2017         —         —   \n",
       "\n",
       "    REVENU_RANGE EMPLOYEE_NUMBER             CATEGORY  \n",
       "4    $1M to $10M           11-50              Finance  \n",
       "5    $1M to $10M           11-50   Financial Services  \n",
       "6    $1M to $10M           11-50             Internet  \n",
       "7    $1M to $10M           11-50                 SaaS  \n",
       "61  $10M to $50M         251-500           Accounting  "
      ]
     },
     "execution_count": 27,
     "metadata": {},
     "output_type": "execute_result"
    }
   ],
   "source": [
    "df_SA = df_merged[df_merged['FUNDING_TYPE'] == 'Series A']\n",
    "df_SA.head()"
   ]
  },
  {
   "cell_type": "code",
   "execution_count": 28,
   "metadata": {},
   "outputs": [],
   "source": [
    "# calculate average value (exclude none value)\n",
    "average_value = df_SA['MONEY_RAISED_USD'].dropna().mean()"
   ]
  },
  {
   "cell_type": "code",
   "execution_count": 29,
   "metadata": {},
   "outputs": [
    {
     "name": "stdout",
     "output_type": "stream",
     "text": [
      "Average value companies received in series A is $ 16234090.00\n"
     ]
    }
   ],
   "source": [
    "print(f\"Average value companies received in series A is ${average_value: .2f}\")"
   ]
  },
  {
   "cell_type": "markdown",
   "metadata": {},
   "source": [
    "Therefore, on average, 16234090 dollars has raised at Series A round"
   ]
  },
  {
   "cell_type": "code",
   "execution_count": null,
   "metadata": {},
   "outputs": [],
   "source": []
  },
  {
   "cell_type": "code",
   "execution_count": null,
   "metadata": {},
   "outputs": [],
   "source": []
  },
  {
   "cell_type": "markdown",
   "metadata": {},
   "source": [
    "# Part 2. Company Status"
   ]
  },
  {
   "cell_type": "markdown",
   "metadata": {
    "id": "8FdgdkUVM5pN"
   },
   "source": [
    "## 2.a. What are the distributions of the current status of these companies?"
   ]
  },
  {
   "cell_type": "code",
   "execution_count": 30,
   "metadata": {
    "id": "0lK6439pM8s0"
   },
   "outputs": [],
   "source": [
    "df_company = pd.read_excel('/Users/jieyuan/Desktop/python/final project/2324MBD41_Project_Dataset-v01.xlsx',sheet_name = 'COMPANY')"
   ]
  },
  {
   "cell_type": "code",
   "execution_count": 31,
   "metadata": {
    "colab": {
     "base_uri": "https://localhost:8080/",
     "height": 345
    },
    "id": "-XrvFkdTN0CN",
    "outputId": "61838e9c-7739-4a56-9db6-729698069d3a"
   },
   "outputs": [
    {
     "data": {
      "text/html": [
       "<div>\n",
       "<style scoped>\n",
       "    .dataframe tbody tr th:only-of-type {\n",
       "        vertical-align: middle;\n",
       "    }\n",
       "\n",
       "    .dataframe tbody tr th {\n",
       "        vertical-align: top;\n",
       "    }\n",
       "\n",
       "    .dataframe thead th {\n",
       "        text-align: right;\n",
       "    }\n",
       "</style>\n",
       "<table border=\"1\" class=\"dataframe\">\n",
       "  <thead>\n",
       "    <tr style=\"text-align: right;\">\n",
       "      <th></th>\n",
       "      <th>COMPANY_NAME</th>\n",
       "      <th>CATEGORY</th>\n",
       "      <th>LOCATION</th>\n",
       "      <th>FOUNDED_ON</th>\n",
       "      <th>EXITED_ON</th>\n",
       "      <th>CLOSED_ON</th>\n",
       "      <th>REVENU_RANGE</th>\n",
       "      <th>EMPLOYEE_NUMBER</th>\n",
       "    </tr>\n",
       "  </thead>\n",
       "  <tbody>\n",
       "    <tr>\n",
       "      <th>0</th>\n",
       "      <td>Twitter</td>\n",
       "      <td>Blogging Platforms, Messaging, SMS, Social Media</td>\n",
       "      <td>San Francisco, California, United States</td>\n",
       "      <td>Mar 21, 2006</td>\n",
       "      <td>Nov 7, 2013</td>\n",
       "      <td>—</td>\n",
       "      <td>$1B to $10B</td>\n",
       "      <td>1001-5000</td>\n",
       "    </tr>\n",
       "    <tr>\n",
       "      <th>1</th>\n",
       "      <td>Ant Group</td>\n",
       "      <td>Banking, E-Commerce, Financial Services, FinTe...</td>\n",
       "      <td>Hangzhou, Zhejiang, China</td>\n",
       "      <td>Oct 2014</td>\n",
       "      <td>—</td>\n",
       "      <td>—</td>\n",
       "      <td>$100M to $500M</td>\n",
       "      <td>5001-10000</td>\n",
       "    </tr>\n",
       "    <tr>\n",
       "      <th>2</th>\n",
       "      <td>Squire</td>\n",
       "      <td>Consumer, FinTech, Mobile Apps, Point of Sale,...</td>\n",
       "      <td>New York, New York, United States</td>\n",
       "      <td>2016</td>\n",
       "      <td>—</td>\n",
       "      <td>—</td>\n",
       "      <td>$1M to $10M</td>\n",
       "      <td>51-100</td>\n",
       "    </tr>\n",
       "    <tr>\n",
       "      <th>3</th>\n",
       "      <td>Xiaomi</td>\n",
       "      <td>Consumer Electronics, Internet, Mobile</td>\n",
       "      <td>Beijing, Beijing, China</td>\n",
       "      <td>Apr 4, 2010</td>\n",
       "      <td>Jul 9, 2018</td>\n",
       "      <td>—</td>\n",
       "      <td>$10B+</td>\n",
       "      <td>10001+</td>\n",
       "    </tr>\n",
       "    <tr>\n",
       "      <th>4</th>\n",
       "      <td>maude</td>\n",
       "      <td>Consumer Goods, E-Commerce, Personal Health, W...</td>\n",
       "      <td>Brooklyn, New York, United States</td>\n",
       "      <td>2018</td>\n",
       "      <td>—</td>\n",
       "      <td>—</td>\n",
       "      <td>$1M to $10M</td>\n",
       "      <td>1-10</td>\n",
       "    </tr>\n",
       "  </tbody>\n",
       "</table>\n",
       "</div>"
      ],
      "text/plain": [
       "  COMPANY_NAME                                           CATEGORY  \\\n",
       "0      Twitter   Blogging Platforms, Messaging, SMS, Social Media   \n",
       "1    Ant Group  Banking, E-Commerce, Financial Services, FinTe...   \n",
       "2       Squire  Consumer, FinTech, Mobile Apps, Point of Sale,...   \n",
       "3       Xiaomi             Consumer Electronics, Internet, Mobile   \n",
       "4        maude  Consumer Goods, E-Commerce, Personal Health, W...   \n",
       "\n",
       "                                   LOCATION    FOUNDED_ON    EXITED_ON  \\\n",
       "0  San Francisco, California, United States  Mar 21, 2006  Nov 7, 2013   \n",
       "1                 Hangzhou, Zhejiang, China      Oct 2014            —   \n",
       "2         New York, New York, United States          2016            —   \n",
       "3                   Beijing, Beijing, China   Apr 4, 2010  Jul 9, 2018   \n",
       "4         Brooklyn, New York, United States          2018            —   \n",
       "\n",
       "  CLOSED_ON    REVENU_RANGE EMPLOYEE_NUMBER  \n",
       "0         —     $1B to $10B       1001-5000  \n",
       "1         —  $100M to $500M      5001-10000  \n",
       "2         —     $1M to $10M          51-100  \n",
       "3         —           $10B+          10001+  \n",
       "4         —     $1M to $10M            1-10  "
      ]
     },
     "execution_count": 31,
     "metadata": {},
     "output_type": "execute_result"
    }
   ],
   "source": [
    "df_company.head()"
   ]
  },
  {
   "cell_type": "markdown",
   "metadata": {
    "id": "eBhYGoCtN51o"
   },
   "source": [
    "For this question, the columns \"FOUNDED_ON\",\t\"EXITED_ON,\tand \"CLOSED_ON\" can be used to describe the current status of these companies."
   ]
  },
  {
   "cell_type": "markdown",
   "metadata": {
    "id": "0TyUN--pOoxm"
   },
   "source": [
    "Operational Companies:\n",
    "\n",
    "If a company has a \"FOUNDED_ON\" date and does not have a \"CLOSED_ON\" or \"EXITED_ON\" date."
   ]
  },
  {
   "cell_type": "code",
   "execution_count": 32,
   "metadata": {
    "colab": {
     "base_uri": "https://localhost:8080/",
     "height": 345
    },
    "id": "9jKKyhzYN1Gu",
    "outputId": "eea47453-ed4e-43f3-a467-452177d36a76",
    "scrolled": true
   },
   "outputs": [
    {
     "data": {
      "text/html": [
       "<div>\n",
       "<style scoped>\n",
       "    .dataframe tbody tr th:only-of-type {\n",
       "        vertical-align: middle;\n",
       "    }\n",
       "\n",
       "    .dataframe tbody tr th {\n",
       "        vertical-align: top;\n",
       "    }\n",
       "\n",
       "    .dataframe thead th {\n",
       "        text-align: right;\n",
       "    }\n",
       "</style>\n",
       "<table border=\"1\" class=\"dataframe\">\n",
       "  <thead>\n",
       "    <tr style=\"text-align: right;\">\n",
       "      <th></th>\n",
       "      <th>COMPANY_NAME</th>\n",
       "      <th>CATEGORY</th>\n",
       "      <th>LOCATION</th>\n",
       "      <th>FOUNDED_ON</th>\n",
       "      <th>EXITED_ON</th>\n",
       "      <th>CLOSED_ON</th>\n",
       "      <th>REVENU_RANGE</th>\n",
       "      <th>EMPLOYEE_NUMBER</th>\n",
       "    </tr>\n",
       "  </thead>\n",
       "  <tbody>\n",
       "    <tr>\n",
       "      <th>0</th>\n",
       "      <td>Twitter</td>\n",
       "      <td>Blogging Platforms, Messaging, SMS, Social Media</td>\n",
       "      <td>San Francisco, California, United States</td>\n",
       "      <td>Mar 21, 2006</td>\n",
       "      <td>Nov 7, 2013</td>\n",
       "      <td>&lt;NA&gt;</td>\n",
       "      <td>$1B to $10B</td>\n",
       "      <td>1001-5000</td>\n",
       "    </tr>\n",
       "    <tr>\n",
       "      <th>1</th>\n",
       "      <td>Ant Group</td>\n",
       "      <td>Banking, E-Commerce, Financial Services, FinTe...</td>\n",
       "      <td>Hangzhou, Zhejiang, China</td>\n",
       "      <td>Oct 2014</td>\n",
       "      <td>&lt;NA&gt;</td>\n",
       "      <td>&lt;NA&gt;</td>\n",
       "      <td>$100M to $500M</td>\n",
       "      <td>5001-10000</td>\n",
       "    </tr>\n",
       "    <tr>\n",
       "      <th>2</th>\n",
       "      <td>Squire</td>\n",
       "      <td>Consumer, FinTech, Mobile Apps, Point of Sale,...</td>\n",
       "      <td>New York, New York, United States</td>\n",
       "      <td>2016</td>\n",
       "      <td>&lt;NA&gt;</td>\n",
       "      <td>&lt;NA&gt;</td>\n",
       "      <td>$1M to $10M</td>\n",
       "      <td>51-100</td>\n",
       "    </tr>\n",
       "    <tr>\n",
       "      <th>3</th>\n",
       "      <td>Xiaomi</td>\n",
       "      <td>Consumer Electronics, Internet, Mobile</td>\n",
       "      <td>Beijing, Beijing, China</td>\n",
       "      <td>Apr 4, 2010</td>\n",
       "      <td>Jul 9, 2018</td>\n",
       "      <td>&lt;NA&gt;</td>\n",
       "      <td>$10B+</td>\n",
       "      <td>10001+</td>\n",
       "    </tr>\n",
       "    <tr>\n",
       "      <th>4</th>\n",
       "      <td>maude</td>\n",
       "      <td>Consumer Goods, E-Commerce, Personal Health, W...</td>\n",
       "      <td>Brooklyn, New York, United States</td>\n",
       "      <td>2018</td>\n",
       "      <td>&lt;NA&gt;</td>\n",
       "      <td>&lt;NA&gt;</td>\n",
       "      <td>$1M to $10M</td>\n",
       "      <td>1-10</td>\n",
       "    </tr>\n",
       "  </tbody>\n",
       "</table>\n",
       "</div>"
      ],
      "text/plain": [
       "  COMPANY_NAME                                           CATEGORY  \\\n",
       "0      Twitter   Blogging Platforms, Messaging, SMS, Social Media   \n",
       "1    Ant Group  Banking, E-Commerce, Financial Services, FinTe...   \n",
       "2       Squire  Consumer, FinTech, Mobile Apps, Point of Sale,...   \n",
       "3       Xiaomi             Consumer Electronics, Internet, Mobile   \n",
       "4        maude  Consumer Goods, E-Commerce, Personal Health, W...   \n",
       "\n",
       "                                   LOCATION    FOUNDED_ON    EXITED_ON  \\\n",
       "0  San Francisco, California, United States  Mar 21, 2006  Nov 7, 2013   \n",
       "1                 Hangzhou, Zhejiang, China      Oct 2014         <NA>   \n",
       "2         New York, New York, United States          2016         <NA>   \n",
       "3                   Beijing, Beijing, China   Apr 4, 2010  Jul 9, 2018   \n",
       "4         Brooklyn, New York, United States          2018         <NA>   \n",
       "\n",
       "  CLOSED_ON    REVENU_RANGE EMPLOYEE_NUMBER  \n",
       "0      <NA>     $1B to $10B       1001-5000  \n",
       "1      <NA>  $100M to $500M      5001-10000  \n",
       "2      <NA>     $1M to $10M          51-100  \n",
       "3      <NA>           $10B+          10001+  \n",
       "4      <NA>     $1M to $10M            1-10  "
      ]
     },
     "execution_count": 32,
     "metadata": {},
     "output_type": "execute_result"
    }
   ],
   "source": [
    "# replace all the \"—\" into NAN\n",
    "df_company['CLOSED_ON'] = df_company['CLOSED_ON'].replace('—', pd.NA)\n",
    "df_company['EXITED_ON'] = df_company['EXITED_ON'].replace('—', pd.NA)\n",
    "df_company.head()"
   ]
  },
  {
   "cell_type": "code",
   "execution_count": 33,
   "metadata": {
    "colab": {
     "base_uri": "https://localhost:8080/",
     "height": 736
    },
    "id": "MklnCxHYRgcS",
    "outputId": "1c03b323-3b59-409a-9abe-16032e74be94",
    "scrolled": true
   },
   "outputs": [
    {
     "data": {
      "text/html": [
       "<div>\n",
       "<style scoped>\n",
       "    .dataframe tbody tr th:only-of-type {\n",
       "        vertical-align: middle;\n",
       "    }\n",
       "\n",
       "    .dataframe tbody tr th {\n",
       "        vertical-align: top;\n",
       "    }\n",
       "\n",
       "    .dataframe thead th {\n",
       "        text-align: right;\n",
       "    }\n",
       "</style>\n",
       "<table border=\"1\" class=\"dataframe\">\n",
       "  <thead>\n",
       "    <tr style=\"text-align: right;\">\n",
       "      <th></th>\n",
       "      <th>COMPANY_NAME</th>\n",
       "      <th>CATEGORY</th>\n",
       "      <th>LOCATION</th>\n",
       "      <th>FOUNDED_ON</th>\n",
       "      <th>EXITED_ON</th>\n",
       "      <th>CLOSED_ON</th>\n",
       "      <th>REVENU_RANGE</th>\n",
       "      <th>EMPLOYEE_NUMBER</th>\n",
       "    </tr>\n",
       "  </thead>\n",
       "  <tbody>\n",
       "    <tr>\n",
       "      <th>1</th>\n",
       "      <td>Ant Group</td>\n",
       "      <td>Banking, E-Commerce, Financial Services, FinTe...</td>\n",
       "      <td>Hangzhou, Zhejiang, China</td>\n",
       "      <td>Oct 2014</td>\n",
       "      <td>NaN</td>\n",
       "      <td>NaN</td>\n",
       "      <td>$100M to $500M</td>\n",
       "      <td>5001-10000</td>\n",
       "    </tr>\n",
       "    <tr>\n",
       "      <th>2</th>\n",
       "      <td>Squire</td>\n",
       "      <td>Consumer, FinTech, Mobile Apps, Point of Sale,...</td>\n",
       "      <td>New York, New York, United States</td>\n",
       "      <td>2016</td>\n",
       "      <td>NaN</td>\n",
       "      <td>NaN</td>\n",
       "      <td>$1M to $10M</td>\n",
       "      <td>51-100</td>\n",
       "    </tr>\n",
       "    <tr>\n",
       "      <th>4</th>\n",
       "      <td>maude</td>\n",
       "      <td>Consumer Goods, E-Commerce, Personal Health, W...</td>\n",
       "      <td>Brooklyn, New York, United States</td>\n",
       "      <td>2018</td>\n",
       "      <td>NaN</td>\n",
       "      <td>NaN</td>\n",
       "      <td>$1M to $10M</td>\n",
       "      <td>1-10</td>\n",
       "    </tr>\n",
       "    <tr>\n",
       "      <th>7</th>\n",
       "      <td>OurCrowd</td>\n",
       "      <td>Angel Investment, Crowdfunding, FinTech, Fundi...</td>\n",
       "      <td>Jerusalem, Yerushalayim, Israel</td>\n",
       "      <td>Feb 1, 2013</td>\n",
       "      <td>NaN</td>\n",
       "      <td>NaN</td>\n",
       "      <td>$50M to $100M</td>\n",
       "      <td>101-250</td>\n",
       "    </tr>\n",
       "    <tr>\n",
       "      <th>9</th>\n",
       "      <td>Crowdcube</td>\n",
       "      <td>Business Development, Finance, Financial Servi...</td>\n",
       "      <td>Exeter, Devon, United Kingdom</td>\n",
       "      <td>Aug 1, 2010</td>\n",
       "      <td>NaN</td>\n",
       "      <td>NaN</td>\n",
       "      <td>$1M to $10M</td>\n",
       "      <td>51-100</td>\n",
       "    </tr>\n",
       "    <tr>\n",
       "      <th>...</th>\n",
       "      <td>...</td>\n",
       "      <td>...</td>\n",
       "      <td>...</td>\n",
       "      <td>...</td>\n",
       "      <td>...</td>\n",
       "      <td>...</td>\n",
       "      <td>...</td>\n",
       "      <td>...</td>\n",
       "    </tr>\n",
       "    <tr>\n",
       "      <th>994</th>\n",
       "      <td>Privitar</td>\n",
       "      <td>Big Data, Cyber Security, Enterprise Software,...</td>\n",
       "      <td>London, England, United Kingdom</td>\n",
       "      <td>Nov 15, 2014</td>\n",
       "      <td>NaN</td>\n",
       "      <td>NaN</td>\n",
       "      <td>$1M to $10M</td>\n",
       "      <td>101-250</td>\n",
       "    </tr>\n",
       "    <tr>\n",
       "      <th>995</th>\n",
       "      <td>Valiu</td>\n",
       "      <td>Cryptocurrency, Finance, Financial Services, F...</td>\n",
       "      <td>Bogotá, Distrito Especial, Colombia</td>\n",
       "      <td>Sep 17, 2018</td>\n",
       "      <td>NaN</td>\n",
       "      <td>NaN</td>\n",
       "      <td>$1M to $10M</td>\n",
       "      <td>11-50</td>\n",
       "    </tr>\n",
       "    <tr>\n",
       "      <th>996</th>\n",
       "      <td>Airship</td>\n",
       "      <td>Analytics, Information Technology, Messaging, ...</td>\n",
       "      <td>Portland, Oregon, United States</td>\n",
       "      <td>Jun 1, 2009</td>\n",
       "      <td>NaN</td>\n",
       "      <td>NaN</td>\n",
       "      <td>$50M to $100M</td>\n",
       "      <td>251-500</td>\n",
       "    </tr>\n",
       "    <tr>\n",
       "      <th>997</th>\n",
       "      <td>Jupiter</td>\n",
       "      <td>Delivery, Logistics</td>\n",
       "      <td>San Francisco, California, United States</td>\n",
       "      <td>2019</td>\n",
       "      <td>NaN</td>\n",
       "      <td>NaN</td>\n",
       "      <td>Less than $1M</td>\n",
       "      <td>1-10</td>\n",
       "    </tr>\n",
       "    <tr>\n",
       "      <th>999</th>\n",
       "      <td>Bitmain</td>\n",
       "      <td>Application Specific Integrated Circuit (ASIC)...</td>\n",
       "      <td>Beijing, Beijing, China</td>\n",
       "      <td>2013</td>\n",
       "      <td>NaN</td>\n",
       "      <td>NaN</td>\n",
       "      <td>$1B to $10B</td>\n",
       "      <td>101-250</td>\n",
       "    </tr>\n",
       "  </tbody>\n",
       "</table>\n",
       "<p>674 rows × 8 columns</p>\n",
       "</div>"
      ],
      "text/plain": [
       "    COMPANY_NAME                                           CATEGORY  \\\n",
       "1      Ant Group  Banking, E-Commerce, Financial Services, FinTe...   \n",
       "2         Squire  Consumer, FinTech, Mobile Apps, Point of Sale,...   \n",
       "4          maude  Consumer Goods, E-Commerce, Personal Health, W...   \n",
       "7       OurCrowd  Angel Investment, Crowdfunding, FinTech, Fundi...   \n",
       "9      Crowdcube  Business Development, Finance, Financial Servi...   \n",
       "..           ...                                                ...   \n",
       "994     Privitar  Big Data, Cyber Security, Enterprise Software,...   \n",
       "995        Valiu  Cryptocurrency, Finance, Financial Services, F...   \n",
       "996      Airship  Analytics, Information Technology, Messaging, ...   \n",
       "997      Jupiter                                Delivery, Logistics   \n",
       "999      Bitmain  Application Specific Integrated Circuit (ASIC)...   \n",
       "\n",
       "                                     LOCATION    FOUNDED_ON EXITED_ON  \\\n",
       "1                   Hangzhou, Zhejiang, China      Oct 2014       NaN   \n",
       "2           New York, New York, United States          2016       NaN   \n",
       "4           Brooklyn, New York, United States          2018       NaN   \n",
       "7             Jerusalem, Yerushalayim, Israel   Feb 1, 2013       NaN   \n",
       "9               Exeter, Devon, United Kingdom   Aug 1, 2010       NaN   \n",
       "..                                        ...           ...       ...   \n",
       "994           London, England, United Kingdom  Nov 15, 2014       NaN   \n",
       "995       Bogotá, Distrito Especial, Colombia  Sep 17, 2018       NaN   \n",
       "996           Portland, Oregon, United States   Jun 1, 2009       NaN   \n",
       "997  San Francisco, California, United States          2019       NaN   \n",
       "999                   Beijing, Beijing, China          2013       NaN   \n",
       "\n",
       "    CLOSED_ON    REVENU_RANGE EMPLOYEE_NUMBER  \n",
       "1         NaN  $100M to $500M      5001-10000  \n",
       "2         NaN     $1M to $10M          51-100  \n",
       "4         NaN     $1M to $10M            1-10  \n",
       "7         NaN   $50M to $100M         101-250  \n",
       "9         NaN     $1M to $10M          51-100  \n",
       "..        ...             ...             ...  \n",
       "994       NaN     $1M to $10M         101-250  \n",
       "995       NaN     $1M to $10M           11-50  \n",
       "996       NaN   $50M to $100M         251-500  \n",
       "997       NaN   Less than $1M            1-10  \n",
       "999       NaN     $1B to $10B         101-250  \n",
       "\n",
       "[674 rows x 8 columns]"
      ]
     },
     "execution_count": 33,
     "metadata": {},
     "output_type": "execute_result"
    }
   ],
   "source": [
    "# both 'CLOSED_ON' and 'EXITED_ON' is NaN, and 'FOUNDED_ON' is not NaN\n",
    "operation_companies = df_company[(pd.isna(df_company['CLOSED_ON']) & pd.isna(df_company['EXITED_ON'])) & ~pd.isna(df_company['FOUNDED_ON'])]\n",
    "operation_companies"
   ]
  },
  {
   "cell_type": "code",
   "execution_count": 34,
   "metadata": {
    "colab": {
     "base_uri": "https://localhost:8080/"
    },
    "id": "PkQsY1-4sHih",
    "outputId": "96072dd3-c6ba-4611-aa19-5f6ccc2a7afd"
   },
   "outputs": [
    {
     "data": {
      "text/plain": [
       "1      Ant Group\n",
       "2         Squire\n",
       "4          maude\n",
       "7       OurCrowd\n",
       "9      Crowdcube\n",
       "         ...    \n",
       "994     Privitar\n",
       "995        Valiu\n",
       "996      Airship\n",
       "997      Jupiter\n",
       "999      Bitmain\n",
       "Name: COMPANY_NAME, Length: 674, dtype: object"
      ]
     },
     "execution_count": 34,
     "metadata": {},
     "output_type": "execute_result"
    }
   ],
   "source": [
    "operation_companies['COMPANY_NAME']"
   ]
  },
  {
   "cell_type": "markdown",
   "metadata": {
    "id": "YWv_meCEOrc8"
   },
   "source": [
    "Closed Companies:\n",
    "\n",
    "If a company has a \"CLOSED_ON\" date, it is considered closed."
   ]
  },
  {
   "cell_type": "code",
   "execution_count": 35,
   "metadata": {
    "colab": {
     "base_uri": "https://localhost:8080/",
     "height": 345
    },
    "id": "8nu-rE3dOtNo",
    "outputId": "ebb09df3-8f8a-4c9b-ff08-8324387b4bc0"
   },
   "outputs": [
    {
     "data": {
      "text/html": [
       "<div>\n",
       "<style scoped>\n",
       "    .dataframe tbody tr th:only-of-type {\n",
       "        vertical-align: middle;\n",
       "    }\n",
       "\n",
       "    .dataframe tbody tr th {\n",
       "        vertical-align: top;\n",
       "    }\n",
       "\n",
       "    .dataframe thead th {\n",
       "        text-align: right;\n",
       "    }\n",
       "</style>\n",
       "<table border=\"1\" class=\"dataframe\">\n",
       "  <thead>\n",
       "    <tr style=\"text-align: right;\">\n",
       "      <th></th>\n",
       "      <th>COMPANY_NAME</th>\n",
       "      <th>CATEGORY</th>\n",
       "      <th>LOCATION</th>\n",
       "      <th>FOUNDED_ON</th>\n",
       "      <th>EXITED_ON</th>\n",
       "      <th>CLOSED_ON</th>\n",
       "      <th>REVENU_RANGE</th>\n",
       "      <th>EMPLOYEE_NUMBER</th>\n",
       "    </tr>\n",
       "  </thead>\n",
       "  <tbody>\n",
       "    <tr>\n",
       "      <th>184</th>\n",
       "      <td>Omni</td>\n",
       "      <td>Apps, Marketplace, Mobile</td>\n",
       "      <td>San Francisco, California, United States</td>\n",
       "      <td>Aug 1, 2014</td>\n",
       "      <td>&lt;NA&gt;</td>\n",
       "      <td>Jan 6, 2020</td>\n",
       "      <td>Less than $1M</td>\n",
       "      <td>51-100</td>\n",
       "    </tr>\n",
       "    <tr>\n",
       "      <th>507</th>\n",
       "      <td>Nokia</td>\n",
       "      <td>Electronics, Enterprise Software, Infrastructu...</td>\n",
       "      <td>Espoo, Southern Finland, Finland</td>\n",
       "      <td>May 12, 1865</td>\n",
       "      <td>Oct 8, 2004</td>\n",
       "      <td>Dec 28, 2020</td>\n",
       "      <td>$1B to $10B</td>\n",
       "      <td>10001+</td>\n",
       "    </tr>\n",
       "    <tr>\n",
       "      <th>624</th>\n",
       "      <td>YourStory</td>\n",
       "      <td>Internet, News, Public Relations, Publishing</td>\n",
       "      <td>Bangalore, Karnataka, India</td>\n",
       "      <td>Oct 1, 2008</td>\n",
       "      <td>&lt;NA&gt;</td>\n",
       "      <td>Apr 13, 2020</td>\n",
       "      <td>Less than $1M</td>\n",
       "      <td>11-50</td>\n",
       "    </tr>\n",
       "    <tr>\n",
       "      <th>835</th>\n",
       "      <td>Vault</td>\n",
       "      <td>Financial Services, Lending, Personal Finance</td>\n",
       "      <td>Austin, Texas, United States</td>\n",
       "      <td>2013</td>\n",
       "      <td>&lt;NA&gt;</td>\n",
       "      <td>2014</td>\n",
       "      <td>$1M to $10M</td>\n",
       "      <td>11-50</td>\n",
       "    </tr>\n",
       "    <tr>\n",
       "      <th>929</th>\n",
       "      <td>Zume Pizza</td>\n",
       "      <td>Consumer, Food and Beverage, Food Delivery</td>\n",
       "      <td>Mountain View, California, United States</td>\n",
       "      <td>Sep 8, 2015</td>\n",
       "      <td>&lt;NA&gt;</td>\n",
       "      <td>Jan 2020</td>\n",
       "      <td>$50M to $100M</td>\n",
       "      <td>101-250</td>\n",
       "    </tr>\n",
       "  </tbody>\n",
       "</table>\n",
       "</div>"
      ],
      "text/plain": [
       "    COMPANY_NAME                                           CATEGORY  \\\n",
       "184         Omni                          Apps, Marketplace, Mobile   \n",
       "507        Nokia  Electronics, Enterprise Software, Infrastructu...   \n",
       "624    YourStory       Internet, News, Public Relations, Publishing   \n",
       "835        Vault      Financial Services, Lending, Personal Finance   \n",
       "929   Zume Pizza         Consumer, Food and Beverage, Food Delivery   \n",
       "\n",
       "                                     LOCATION    FOUNDED_ON    EXITED_ON  \\\n",
       "184  San Francisco, California, United States   Aug 1, 2014         <NA>   \n",
       "507          Espoo, Southern Finland, Finland  May 12, 1865  Oct 8, 2004   \n",
       "624               Bangalore, Karnataka, India   Oct 1, 2008         <NA>   \n",
       "835              Austin, Texas, United States          2013         <NA>   \n",
       "929  Mountain View, California, United States   Sep 8, 2015         <NA>   \n",
       "\n",
       "        CLOSED_ON   REVENU_RANGE EMPLOYEE_NUMBER  \n",
       "184   Jan 6, 2020  Less than $1M          51-100  \n",
       "507  Dec 28, 2020    $1B to $10B          10001+  \n",
       "624  Apr 13, 2020  Less than $1M           11-50  \n",
       "835          2014    $1M to $10M           11-50  \n",
       "929      Jan 2020  $50M to $100M         101-250  "
      ]
     },
     "execution_count": 35,
     "metadata": {},
     "output_type": "execute_result"
    }
   ],
   "source": [
    "closed_companies = df_company[df_company['CLOSED_ON'].notna()]\n",
    "closed_companies"
   ]
  },
  {
   "cell_type": "code",
   "execution_count": 36,
   "metadata": {
    "colab": {
     "base_uri": "https://localhost:8080/"
    },
    "id": "GmIwjrAgse1C",
    "outputId": "69a2a21d-6e5a-4b96-ae80-be84866907cf"
   },
   "outputs": [
    {
     "data": {
      "text/plain": [
       "184          Omni\n",
       "507         Nokia\n",
       "624     YourStory\n",
       "835         Vault\n",
       "929    Zume Pizza\n",
       "Name: COMPANY_NAME, dtype: object"
      ]
     },
     "execution_count": 36,
     "metadata": {},
     "output_type": "execute_result"
    }
   ],
   "source": [
    "closed_companies['COMPANY_NAME']"
   ]
  },
  {
   "cell_type": "markdown",
   "metadata": {
    "id": "ByUSNlrXOtjk"
   },
   "source": [
    "\n",
    "Acquired Companies:\n",
    "\n",
    "If a company has an \"EXITED_ON\" date and does not have a \"CLOSED_ON\" date, it is considered acquired."
   ]
  },
  {
   "cell_type": "code",
   "execution_count": 37,
   "metadata": {
    "colab": {
     "base_uri": "https://localhost:8080/",
     "height": 736
    },
    "id": "YSUWA2ZoOuil",
    "outputId": "3f3d3f80-b5d8-440d-8fd2-86399878a4da",
    "scrolled": true
   },
   "outputs": [
    {
     "data": {
      "text/html": [
       "<div>\n",
       "<style scoped>\n",
       "    .dataframe tbody tr th:only-of-type {\n",
       "        vertical-align: middle;\n",
       "    }\n",
       "\n",
       "    .dataframe tbody tr th {\n",
       "        vertical-align: top;\n",
       "    }\n",
       "\n",
       "    .dataframe thead th {\n",
       "        text-align: right;\n",
       "    }\n",
       "</style>\n",
       "<table border=\"1\" class=\"dataframe\">\n",
       "  <thead>\n",
       "    <tr style=\"text-align: right;\">\n",
       "      <th></th>\n",
       "      <th>COMPANY_NAME</th>\n",
       "      <th>CATEGORY</th>\n",
       "      <th>LOCATION</th>\n",
       "      <th>FOUNDED_ON</th>\n",
       "      <th>EXITED_ON</th>\n",
       "      <th>CLOSED_ON</th>\n",
       "      <th>REVENU_RANGE</th>\n",
       "      <th>EMPLOYEE_NUMBER</th>\n",
       "    </tr>\n",
       "  </thead>\n",
       "  <tbody>\n",
       "    <tr>\n",
       "      <th>0</th>\n",
       "      <td>Twitter</td>\n",
       "      <td>Blogging Platforms, Messaging, SMS, Social Media</td>\n",
       "      <td>San Francisco, California, United States</td>\n",
       "      <td>Mar 21, 2006</td>\n",
       "      <td>Nov 7, 2013</td>\n",
       "      <td>NaN</td>\n",
       "      <td>$1B to $10B</td>\n",
       "      <td>1001-5000</td>\n",
       "    </tr>\n",
       "    <tr>\n",
       "      <th>3</th>\n",
       "      <td>Xiaomi</td>\n",
       "      <td>Consumer Electronics, Internet, Mobile</td>\n",
       "      <td>Beijing, Beijing, China</td>\n",
       "      <td>Apr 4, 2010</td>\n",
       "      <td>Jul 9, 2018</td>\n",
       "      <td>NaN</td>\n",
       "      <td>$10B+</td>\n",
       "      <td>10001+</td>\n",
       "    </tr>\n",
       "    <tr>\n",
       "      <th>5</th>\n",
       "      <td>Facebook</td>\n",
       "      <td>Mobile Apps, Social, Social Media, Social Netw...</td>\n",
       "      <td>Menlo Park, California, United States</td>\n",
       "      <td>Feb 4, 2004</td>\n",
       "      <td>May 18, 2012</td>\n",
       "      <td>NaN</td>\n",
       "      <td>$10B+</td>\n",
       "      <td>10001+</td>\n",
       "    </tr>\n",
       "    <tr>\n",
       "      <th>6</th>\n",
       "      <td>Apple</td>\n",
       "      <td>Consumer Electronics, Electronics, Hardware, M...</td>\n",
       "      <td>Cupertino, California, United States</td>\n",
       "      <td>Apr 1, 1976</td>\n",
       "      <td>Dec 12, 1980</td>\n",
       "      <td>NaN</td>\n",
       "      <td>$10B+</td>\n",
       "      <td>10001+</td>\n",
       "    </tr>\n",
       "    <tr>\n",
       "      <th>8</th>\n",
       "      <td>Netflix</td>\n",
       "      <td>Digital Entertainment, Media and Entertainment...</td>\n",
       "      <td>Los Gatos, California, United States</td>\n",
       "      <td>Jan 1, 1997</td>\n",
       "      <td>May 23, 2002</td>\n",
       "      <td>NaN</td>\n",
       "      <td>$10B+</td>\n",
       "      <td>1001-5000</td>\n",
       "    </tr>\n",
       "    <tr>\n",
       "      <th>...</th>\n",
       "      <td>...</td>\n",
       "      <td>...</td>\n",
       "      <td>...</td>\n",
       "      <td>...</td>\n",
       "      <td>...</td>\n",
       "      <td>...</td>\n",
       "      <td>...</td>\n",
       "      <td>...</td>\n",
       "    </tr>\n",
       "    <tr>\n",
       "      <th>988</th>\n",
       "      <td>Withings</td>\n",
       "      <td>Apps, Consumer Electronics, Health Care, Softw...</td>\n",
       "      <td>Issy-les-moulineaux, Ile-de-France, France</td>\n",
       "      <td>Jun 1, 2008</td>\n",
       "      <td>Apr 26, 2016</td>\n",
       "      <td>NaN</td>\n",
       "      <td>$50M to $100M</td>\n",
       "      <td>101-250</td>\n",
       "    </tr>\n",
       "    <tr>\n",
       "      <th>989</th>\n",
       "      <td>Avaloq</td>\n",
       "      <td>Banking, Financial Services, FinTech, Software</td>\n",
       "      <td>Zürich, Zurich, Switzerland</td>\n",
       "      <td>1991</td>\n",
       "      <td>Oct 5, 2020</td>\n",
       "      <td>NaN</td>\n",
       "      <td>$500M to $1B</td>\n",
       "      <td>1001-5000</td>\n",
       "    </tr>\n",
       "    <tr>\n",
       "      <th>991</th>\n",
       "      <td>comScore</td>\n",
       "      <td>Analytics, Consumer, SaaS, Social Media Market...</td>\n",
       "      <td>Reston, Virginia, United States</td>\n",
       "      <td>Aug 1, 1999</td>\n",
       "      <td>Jun 28, 2007</td>\n",
       "      <td>NaN</td>\n",
       "      <td>$50M to $100M</td>\n",
       "      <td>1001-5000</td>\n",
       "    </tr>\n",
       "    <tr>\n",
       "      <th>992</th>\n",
       "      <td>Cornershop</td>\n",
       "      <td>E-Commerce, Internet, Mobile</td>\n",
       "      <td>Las Condes, Region Metropolitana, Chile</td>\n",
       "      <td>Mar 10, 2015</td>\n",
       "      <td>Oct 11, 2019</td>\n",
       "      <td>NaN</td>\n",
       "      <td>$50M to $100M</td>\n",
       "      <td>101-250</td>\n",
       "    </tr>\n",
       "    <tr>\n",
       "      <th>998</th>\n",
       "      <td>Bank of America</td>\n",
       "      <td>Asset Management, Banking, Finance, Financial ...</td>\n",
       "      <td>Charlotte, North Carolina, United States</td>\n",
       "      <td>Jul 31, 1998</td>\n",
       "      <td>Jan 13, 1978</td>\n",
       "      <td>NaN</td>\n",
       "      <td>$10B+</td>\n",
       "      <td>10001+</td>\n",
       "    </tr>\n",
       "  </tbody>\n",
       "</table>\n",
       "<p>321 rows × 8 columns</p>\n",
       "</div>"
      ],
      "text/plain": [
       "        COMPANY_NAME                                           CATEGORY  \\\n",
       "0            Twitter   Blogging Platforms, Messaging, SMS, Social Media   \n",
       "3             Xiaomi             Consumer Electronics, Internet, Mobile   \n",
       "5           Facebook  Mobile Apps, Social, Social Media, Social Netw...   \n",
       "6              Apple  Consumer Electronics, Electronics, Hardware, M...   \n",
       "8            Netflix  Digital Entertainment, Media and Entertainment...   \n",
       "..               ...                                                ...   \n",
       "988         Withings  Apps, Consumer Electronics, Health Care, Softw...   \n",
       "989           Avaloq     Banking, Financial Services, FinTech, Software   \n",
       "991         comScore  Analytics, Consumer, SaaS, Social Media Market...   \n",
       "992       Cornershop                       E-Commerce, Internet, Mobile   \n",
       "998  Bank of America  Asset Management, Banking, Finance, Financial ...   \n",
       "\n",
       "                                       LOCATION    FOUNDED_ON     EXITED_ON  \\\n",
       "0      San Francisco, California, United States  Mar 21, 2006   Nov 7, 2013   \n",
       "3                       Beijing, Beijing, China   Apr 4, 2010   Jul 9, 2018   \n",
       "5         Menlo Park, California, United States   Feb 4, 2004  May 18, 2012   \n",
       "6          Cupertino, California, United States   Apr 1, 1976  Dec 12, 1980   \n",
       "8          Los Gatos, California, United States   Jan 1, 1997  May 23, 2002   \n",
       "..                                          ...           ...           ...   \n",
       "988  Issy-les-moulineaux, Ile-de-France, France   Jun 1, 2008  Apr 26, 2016   \n",
       "989                 Zürich, Zurich, Switzerland          1991   Oct 5, 2020   \n",
       "991             Reston, Virginia, United States   Aug 1, 1999  Jun 28, 2007   \n",
       "992     Las Condes, Region Metropolitana, Chile  Mar 10, 2015  Oct 11, 2019   \n",
       "998    Charlotte, North Carolina, United States  Jul 31, 1998  Jan 13, 1978   \n",
       "\n",
       "    CLOSED_ON   REVENU_RANGE EMPLOYEE_NUMBER  \n",
       "0         NaN    $1B to $10B       1001-5000  \n",
       "3         NaN          $10B+          10001+  \n",
       "5         NaN          $10B+          10001+  \n",
       "6         NaN          $10B+          10001+  \n",
       "8         NaN          $10B+       1001-5000  \n",
       "..        ...            ...             ...  \n",
       "988       NaN  $50M to $100M         101-250  \n",
       "989       NaN   $500M to $1B       1001-5000  \n",
       "991       NaN  $50M to $100M       1001-5000  \n",
       "992       NaN  $50M to $100M         101-250  \n",
       "998       NaN          $10B+          10001+  \n",
       "\n",
       "[321 rows x 8 columns]"
      ]
     },
     "execution_count": 37,
     "metadata": {},
     "output_type": "execute_result"
    }
   ],
   "source": [
    "acquired_companies = df_company[(df_company['EXITED_ON'].notna()) & pd.isna(df_company['CLOSED_ON'])]\n",
    "acquired_companies"
   ]
  },
  {
   "cell_type": "code",
   "execution_count": 38,
   "metadata": {
    "colab": {
     "base_uri": "https://localhost:8080/"
    },
    "id": "-J1iqWlBsjIn",
    "outputId": "49adbd96-91d5-4f58-b0f6-a83f41162da6"
   },
   "outputs": [
    {
     "data": {
      "text/plain": [
       "0              Twitter\n",
       "3               Xiaomi\n",
       "5             Facebook\n",
       "6                Apple\n",
       "8              Netflix\n",
       "            ...       \n",
       "988           Withings\n",
       "989             Avaloq\n",
       "991           comScore\n",
       "992         Cornershop\n",
       "998    Bank of America\n",
       "Name: COMPANY_NAME, Length: 321, dtype: object"
      ]
     },
     "execution_count": 38,
     "metadata": {},
     "output_type": "execute_result"
    }
   ],
   "source": [
    "acquired_companies['COMPANY_NAME']"
   ]
  },
  {
   "cell_type": "code",
   "execution_count": 39,
   "metadata": {
    "id": "1VDOG_ZNrp7S",
    "scrolled": false
   },
   "outputs": [
    {
     "name": "stdout",
     "output_type": "stream",
     "text": [
      "674  companies are Operational Companies.\n",
      "5  companies are Closed Companies.\n",
      "321  companies are Acquired Companies.\n"
     ]
    }
   ],
   "source": [
    "print(len(operation_companies), ' companies are Operational Companies.')\n",
    "print(len(closed_companies),' companies are Closed Companies.')\n",
    "print(len(acquired_companies), ' companies are Acquired Companies.')"
   ]
  },
  {
   "cell_type": "markdown",
   "metadata": {},
   "source": [
    "### Data Visualization"
   ]
  },
  {
   "cell_type": "code",
   "execution_count": 40,
   "metadata": {
    "scrolled": true
   },
   "outputs": [
    {
     "data": {
      "image/png": "[encoded data removed]",
      "text/plain": [
       "<Figure size 500x400 with 1 Axes>"
      ]
     },
     "metadata": {},
     "output_type": "display_data"
    }
   ],
   "source": [
    "company_status_counts = {\"Operational\": len(operation_companies), \n",
    "                         \"Acquired\": len(acquired_companies), \n",
    "                         \"Closed\": len(closed_companies)}\n",
    "statuses = list(company_status_counts.keys())\n",
    "counts = list(company_status_counts.values())\n",
    "\n",
    "# Creating a bar chart\n",
    "plt.figure(figsize=(5, 4))\n",
    "plt.bar(statuses, counts)\n",
    "\n",
    "plt.title(\"Company Status Distribution\")\n",
    "plt.xlabel(\"Status\")\n",
    "plt.ylabel(\"Number of Companies\")\n",
    "\n",
    "# Showing the plot\n",
    "plt.show()"
   ]
  },
  {
   "cell_type": "code",
   "execution_count": 41,
   "metadata": {
    "scrolled": true
   },
   "outputs": [
    {
     "data": {
      "image/png": "[encoded data removed]",
      "text/plain": [
       "<Figure size 500x500 with 1 Axes>"
      ]
     },
     "metadata": {},
     "output_type": "display_data"
    }
   ],
   "source": [
    "# Creating a pie chart\n",
    "plt.figure(figsize=(5, 5))\n",
    "plt.pie(counts, labels=statuses, autopct='%1.1f%%', startangle=140, colors=['blue', 'green', 'red'])\n",
    "plt.title(\"Company Status Distribution\")\n",
    "plt.show()"
   ]
  },
  {
   "cell_type": "markdown",
   "metadata": {
    "id": "K48oyipdsuIa"
   },
   "source": [
    "### There are three statuses for these companies:\n",
    "* **674 companies are Operational Companies**\n",
    "\n",
    "(If a company has a \"FOUNDED_ON\" date and does not have a \"CLOSED_ON\" or \"EXITED_ON\" date)\n",
    "\n",
    "\n",
    "* **5 companies are Closed Companies**\n",
    "\n",
    "(If a company has a \"CLOSED_ON\" date, it is considered closed)\n",
    "\n",
    "\n",
    "* **321 companies are Acquired Companies**\n",
    "\n",
    "(A company has an \"EXITED_ON\" date and does not have a \"CLOSED_ON\" date, it is considered acquired)\n"
   ]
  },
  {
   "cell_type": "code",
   "execution_count": null,
   "metadata": {},
   "outputs": [],
   "source": []
  },
  {
   "cell_type": "code",
   "execution_count": null,
   "metadata": {},
   "outputs": [],
   "source": []
  },
  {
   "cell_type": "markdown",
   "metadata": {},
   "source": [
    "## 2.b. Average years Taken for Companies to Exit (only look at year)\n",
    "\n",
    "use the year to exit - the year to found"
   ]
  },
  {
   "cell_type": "markdown",
   "metadata": {},
   "source": [
    "Before processing data, let's get only year."
   ]
  },
  {
   "cell_type": "code",
   "execution_count": 42,
   "metadata": {},
   "outputs": [],
   "source": [
    "df_company = pd.read_excel('/Users/jieyuan/Desktop/python/final project/2324MBD41_Project_Dataset-v01.xlsx',sheet_name = 'COMPANY')"
   ]
  },
  {
   "cell_type": "code",
   "execution_count": 43,
   "metadata": {},
   "outputs": [],
   "source": [
    "def extract_year(date_str):\n",
    "    # Regular expression to match a four-digit number (year)\n",
    "    match = re.search(r'\\b\\d{4}\\b', date_str)\n",
    "    return int(match.group()) if match else None"
   ]
  },
  {
   "cell_type": "code",
   "execution_count": 44,
   "metadata": {},
   "outputs": [],
   "source": [
    "# Convert the 'FOUNDED_ON' column to string\n",
    "df_company['FOUNDED_ON'] = df_company['FOUNDED_ON'].astype(str)"
   ]
  },
  {
   "cell_type": "code",
   "execution_count": 45,
   "metadata": {},
   "outputs": [],
   "source": [
    "# Apply the function to columns to extract the year\n",
    "df_company['FOUNDED_YEAR'] = df_company['FOUNDED_ON'].apply(extract_year)\n",
    "df_company['EXITED_YEAR'] = df_company['EXITED_ON'].apply(extract_year)"
   ]
  },
  {
   "cell_type": "code",
   "execution_count": 46,
   "metadata": {},
   "outputs": [
    {
     "data": {
      "text/plain": [
       "0      2006\n",
       "1      2014\n",
       "2      2016\n",
       "3      2010\n",
       "4      2018\n",
       "       ... \n",
       "995    2018\n",
       "996    2009\n",
       "997    2019\n",
       "998    1998\n",
       "999    2013\n",
       "Name: FOUNDED_YEAR, Length: 1000, dtype: int64"
      ]
     },
     "execution_count": 46,
     "metadata": {},
     "output_type": "execute_result"
    }
   ],
   "source": [
    "df_company['FOUNDED_YEAR']"
   ]
  },
  {
   "cell_type": "code",
   "execution_count": 47,
   "metadata": {
    "scrolled": true
   },
   "outputs": [
    {
     "data": {
      "text/plain": [
       "0      2013.0\n",
       "1         NaN\n",
       "2         NaN\n",
       "3      2018.0\n",
       "4         NaN\n",
       "        ...  \n",
       "995       NaN\n",
       "996       NaN\n",
       "997       NaN\n",
       "998    1978.0\n",
       "999       NaN\n",
       "Name: EXITED_YEAR, Length: 1000, dtype: float64"
      ]
     },
     "execution_count": 47,
     "metadata": {},
     "output_type": "execute_result"
    }
   ],
   "source": [
    "df_company['EXITED_YEAR']"
   ]
  },
  {
   "cell_type": "code",
   "execution_count": 48,
   "metadata": {},
   "outputs": [],
   "source": [
    "# Some companies not exited. I only want to calculate the years for exit companies.\n",
    "exit_comp = df_company.dropna(subset=['EXITED_YEAR'])"
   ]
  },
  {
   "cell_type": "code",
   "execution_count": 49,
   "metadata": {},
   "outputs": [],
   "source": [
    "# Calculate differences of founded and exited (only for exited companies)\n",
    "df_company['TIME_TO_EXIT_YEARS'] = exit_comp['EXITED_YEAR'] - exit_comp['FOUNDED_YEAR']"
   ]
  },
  {
   "cell_type": "code",
   "execution_count": 50,
   "metadata": {},
   "outputs": [
    {
     "name": "stdout",
     "output_type": "stream",
     "text": [
      "Average time to exit is 16.89 years\n"
     ]
    }
   ],
   "source": [
    "# Calculating the average time to exit in years (round to 2 decimal)\n",
    "avg_exit_years = df_company['TIME_TO_EXIT_YEARS'].mean()\n",
    "\n",
    "print(f\"Average time to exit is{avg_exit_years: .2f} years\")"
   ]
  },
  {
   "cell_type": "code",
   "execution_count": null,
   "metadata": {},
   "outputs": [],
   "source": []
  },
  {
   "cell_type": "code",
   "execution_count": null,
   "metadata": {},
   "outputs": [],
   "source": []
  },
  {
   "cell_type": "markdown",
   "metadata": {},
   "source": [
    "# Part 3. Acquisition Insights:\n",
    "\n",
    "## 3.a. Which company has the largest number of acquisitions?"
   ]
  },
  {
   "cell_type": "code",
   "execution_count": 51,
   "metadata": {},
   "outputs": [],
   "source": [
    "df_ACQUISITION = pd.read_excel('/Users/jieyuan/Desktop/python/final project/2324MBD41_Project_Dataset-v01.xlsx',sheet_name = 'ACQUISITION')"
   ]
  },
  {
   "cell_type": "code",
   "execution_count": 52,
   "metadata": {},
   "outputs": [
    {
     "data": {
      "text/html": [
       "<div>\n",
       "<style scoped>\n",
       "    .dataframe tbody tr th:only-of-type {\n",
       "        vertical-align: middle;\n",
       "    }\n",
       "\n",
       "    .dataframe tbody tr th {\n",
       "        vertical-align: top;\n",
       "    }\n",
       "\n",
       "    .dataframe thead th {\n",
       "        text-align: right;\n",
       "    }\n",
       "</style>\n",
       "<table border=\"1\" class=\"dataframe\">\n",
       "  <thead>\n",
       "    <tr style=\"text-align: right;\">\n",
       "      <th></th>\n",
       "      <th>COMPANY_NAME</th>\n",
       "      <th>ACQUIREE_NAME</th>\n",
       "      <th>ANNOUNCED_DATE</th>\n",
       "      <th>PRICE</th>\n",
       "      <th>ACQUISITION_TYPE</th>\n",
       "    </tr>\n",
       "  </thead>\n",
       "  <tbody>\n",
       "    <tr>\n",
       "      <th>0</th>\n",
       "      <td>IBM</td>\n",
       "      <td>Turbonomic</td>\n",
       "      <td>Apr 29, 2021</td>\n",
       "      <td>$2,000,000,000</td>\n",
       "      <td>Acquisition</td>\n",
       "    </tr>\n",
       "    <tr>\n",
       "      <th>1</th>\n",
       "      <td>IBM</td>\n",
       "      <td>myInvenio</td>\n",
       "      <td>Apr 15, 2021</td>\n",
       "      <td>—</td>\n",
       "      <td>Acquisition</td>\n",
       "    </tr>\n",
       "    <tr>\n",
       "      <th>2</th>\n",
       "      <td>IBM</td>\n",
       "      <td>Taos Mountain</td>\n",
       "      <td>Jan 14, 2021</td>\n",
       "      <td>—</td>\n",
       "      <td>Acquisition</td>\n",
       "    </tr>\n",
       "    <tr>\n",
       "      <th>3</th>\n",
       "      <td>IBM</td>\n",
       "      <td>Cloudant</td>\n",
       "      <td>Feb 24, 2014</td>\n",
       "      <td>—</td>\n",
       "      <td>Acquisition</td>\n",
       "    </tr>\n",
       "    <tr>\n",
       "      <th>4</th>\n",
       "      <td>IBM</td>\n",
       "      <td>TruQua</td>\n",
       "      <td>Nov 16, 2020</td>\n",
       "      <td>—</td>\n",
       "      <td>Acquisition</td>\n",
       "    </tr>\n",
       "  </tbody>\n",
       "</table>\n",
       "</div>"
      ],
      "text/plain": [
       "  COMPANY_NAME  ACQUIREE_NAME ANNOUNCED_DATE           PRICE ACQUISITION_TYPE\n",
       "0          IBM     Turbonomic   Apr 29, 2021  $2,000,000,000      Acquisition\n",
       "1          IBM      myInvenio   Apr 15, 2021               —      Acquisition\n",
       "2          IBM  Taos Mountain   Jan 14, 2021               —      Acquisition\n",
       "3          IBM       Cloudant   Feb 24, 2014               —      Acquisition\n",
       "4          IBM         TruQua   Nov 16, 2020               —      Acquisition"
      ]
     },
     "execution_count": 52,
     "metadata": {},
     "output_type": "execute_result"
    }
   ],
   "source": [
    "df_ACQUISITION.head()"
   ]
  },
  {
   "cell_type": "code",
   "execution_count": 53,
   "metadata": {},
   "outputs": [],
   "source": [
    "# Exclude the NaN values in ACQUISITION_TYPE clumne\n",
    "df_ACQUISITION2 = df_ACQUISITION.dropna(subset=['ACQUISITION_TYPE'])"
   ]
  },
  {
   "cell_type": "code",
   "execution_count": 54,
   "metadata": {},
   "outputs": [],
   "source": [
    "# Counting the number of acquisitions for each company\n",
    "acq_counts = df_ACQUISITION2['COMPANY_NAME'].value_counts()"
   ]
  },
  {
   "cell_type": "code",
   "execution_count": 55,
   "metadata": {},
   "outputs": [
    {
     "data": {
      "text/plain": [
       "COMPANY_NAME\n",
       "Microsoft        235\n",
       "Cisco            233\n",
       "Google           230\n",
       "Accenture        215\n",
       "EQT              175\n",
       "                ... \n",
       "Manbang Group      1\n",
       "LEAD School        1\n",
       "Ro                 1\n",
       "Draper Esprit      1\n",
       "Auth0              1\n",
       "Name: count, Length: 497, dtype: int64"
      ]
     },
     "execution_count": 55,
     "metadata": {},
     "output_type": "execute_result"
    }
   ],
   "source": [
    "acq_counts"
   ]
  },
  {
   "cell_type": "markdown",
   "metadata": {},
   "source": [
    "### Data Visualization\n",
    "Top 10 companies who have the most acquisitions"
   ]
  },
  {
   "cell_type": "code",
   "execution_count": 56,
   "metadata": {},
   "outputs": [
    {
     "data": {
      "image/png": "[encoded data removed]",
      "text/plain": [
       "<Figure size 600x400 with 1 Axes>"
      ]
     },
     "metadata": {},
     "output_type": "display_data"
    }
   ],
   "source": [
    "top_acq = acq_counts.head(10)\n",
    "\n",
    "# Creating a bar chart\n",
    "plt.figure(figsize=(6, 4))\n",
    "top_acq.plot(kind='bar', color='skyblue')\n",
    "plt.title('Top 10 Companies by Number of Acquisitions')\n",
    "plt.xlabel('Company Name')\n",
    "plt.ylabel('Number of Acquisitions')\n",
    "plt.xticks(rotation=45)\n",
    "plt.show()"
   ]
  },
  {
   "cell_type": "markdown",
   "metadata": {},
   "source": [
    "The company has the most acquisitions:"
   ]
  },
  {
   "cell_type": "code",
   "execution_count": 57,
   "metadata": {},
   "outputs": [],
   "source": [
    "# Identifying the company with the highest number of acquisitions\n",
    "comp_max_acq = acq_counts.idxmax()\n",
    "num_acq = acq_counts.max()"
   ]
  },
  {
   "cell_type": "code",
   "execution_count": 58,
   "metadata": {
    "scrolled": true
   },
   "outputs": [
    {
     "name": "stdout",
     "output_type": "stream",
     "text": [
      "Company with the most acquisitions: Microsoft\n",
      "Number of acquisitions: 235\n"
     ]
    }
   ],
   "source": [
    "print(f\"Company with the most acquisitions: {comp_max_acq}\")\n",
    "print(f\"Number of acquisitions: {num_acq}\")"
   ]
  },
  {
   "cell_type": "code",
   "execution_count": null,
   "metadata": {},
   "outputs": [],
   "source": []
  },
  {
   "cell_type": "markdown",
   "metadata": {},
   "source": [
    "## 3.b. Which company spent the most money in company acquisition?\n",
    "\n",
    "First, we need to find out how many different currencies they have for company acquisition"
   ]
  },
  {
   "cell_type": "code",
   "execution_count": 59,
   "metadata": {},
   "outputs": [
    {
     "name": "stdout",
     "output_type": "stream",
     "text": [
      "['$' '—' '€' '£' 'A$' 'CA$' 'DKK' 'CHF' 'RUB' '₹' 'CN¥' 'R$' 'SEK']\n"
     ]
    }
   ],
   "source": [
    "currencies = df_ACQUISITION2['PRICE'].str.extract('([^\\d.,]+)')[0].unique()\n",
    "print(currencies)"
   ]
  },
  {
   "cell_type": "code",
   "execution_count": 60,
   "metadata": {},
   "outputs": [],
   "source": [
    "exchange_rates = {'$': 1, '-': 1, '€':1.2, '£': 1.4, 'A$':0.7, 'RUB':0.014, 'CA$': 0.8, '₹':0.014, 'R$':0.2,\n",
    "                   'CHF': 0.93, 'CN¥':0.15, 'SEK':0.11}"
   ]
  },
  {
   "cell_type": "code",
   "execution_count": 61,
   "metadata": {},
   "outputs": [],
   "source": [
    "# define a finction to convert currencies\n",
    "# we did this in question 1.a. we put here again. \n",
    "\n",
    "def convert_to_usd(amount):\n",
    "    # Extract currency symbol and numeric part\n",
    "    match = re.match(r'([€$£CA$₹]+)([\\d,]+)', amount)\n",
    "    if match:\n",
    "        currency_symbol, numeric_part = match.groups()\n",
    "        numeric_value = float(numeric_part.replace(',', ''))\n",
    "        return numeric_value * exchange_rates.get(currency_symbol, 1)\n",
    "    return 0"
   ]
  },
  {
   "cell_type": "code",
   "execution_count": 62,
   "metadata": {},
   "outputs": [],
   "source": [
    "# Applying the conversion to each value in 'PRICE'\n",
    "df_ACQUISITION2['PRICE_USD'] = df_ACQUISITION2['PRICE'].apply(convert_to_usd)"
   ]
  },
  {
   "cell_type": "code",
   "execution_count": 63,
   "metadata": {},
   "outputs": [
    {
     "data": {
      "text/plain": [
       "0       2.000000e+09\n",
       "1       0.000000e+00\n",
       "2       0.000000e+00\n",
       "3       0.000000e+00\n",
       "4       0.000000e+00\n",
       "            ...     \n",
       "5284    0.000000e+00\n",
       "5285    0.000000e+00\n",
       "5286    0.000000e+00\n",
       "5287    0.000000e+00\n",
       "5288    0.000000e+00\n",
       "Name: PRICE_USD, Length: 5289, dtype: float64"
      ]
     },
     "execution_count": 63,
     "metadata": {},
     "output_type": "execute_result"
    }
   ],
   "source": [
    "df_ACQUISITION2['PRICE_USD']"
   ]
  },
  {
   "cell_type": "code",
   "execution_count": 64,
   "metadata": {},
   "outputs": [],
   "source": [
    "# Sum Prices for Each Company: Aggregate the acquisition prices by company.\n",
    "sum_spent = df_ACQUISITION2.groupby('COMPANY_NAME')['PRICE_USD'].sum()"
   ]
  },
  {
   "cell_type": "code",
   "execution_count": 65,
   "metadata": {
    "scrolled": true
   },
   "outputs": [
    {
     "name": "stdout",
     "output_type": "stream",
     "text": [
      "COMPANY_NAME\n",
      "1mg                            0.0\n",
      "23andMe                        0.0\n",
      "ATAI Life Sciences             0.0\n",
      "AbCellera Biologics     90000000.0\n",
      "Accenture              726500000.0\n",
      "                          ...     \n",
      "iFood                          0.0\n",
      "iZettle                        0.0\n",
      "ipsy                   500000000.0\n",
      "nCino                          0.0\n",
      "project44                      0.0\n",
      "Name: PRICE_USD, Length: 497, dtype: float64\n"
     ]
    }
   ],
   "source": [
    "print(sum_spent)"
   ]
  },
  {
   "cell_type": "code",
   "execution_count": null,
   "metadata": {},
   "outputs": [],
   "source": []
  },
  {
   "cell_type": "markdown",
   "metadata": {},
   "source": [
    "Now we get their money spent by each company. Let's get top 10 companies"
   ]
  },
  {
   "cell_type": "code",
   "execution_count": 66,
   "metadata": {},
   "outputs": [],
   "source": [
    "sorted_spend = sum_spent.sort_values(ascending=False)"
   ]
  },
  {
   "cell_type": "code",
   "execution_count": 67,
   "metadata": {},
   "outputs": [
    {
     "data": {
      "image/png": "[encoded data removed]",
      "text/plain": [
       "<Figure size 600x400 with 1 Axes>"
      ]
     },
     "metadata": {},
     "output_type": "display_data"
    }
   ],
   "source": [
    "# Extract the top 10 companies\n",
    "top_10 = sorted_spend.head(10)\n",
    "\n",
    "# Creating a bar chart for the top 10 spenders\n",
    "plt.figure(figsize=(6, 4))\n",
    "top_10.plot(kind='barh')\n",
    "plt.title('Top 10 Companies by Acquisition Spend')\n",
    "plt.xlabel('Company Name')\n",
    "plt.ylabel('Total Spend in USD')\n",
    "plt.show()"
   ]
  },
  {
   "cell_type": "code",
   "execution_count": 68,
   "metadata": {},
   "outputs": [],
   "source": [
    "max_spd = sum_spent.idxmax()\n",
    "num_spd = sum_spent.max()"
   ]
  },
  {
   "cell_type": "code",
   "execution_count": 69,
   "metadata": {},
   "outputs": [
    {
     "name": "stdout",
     "output_type": "stream",
     "text": [
      "Pfizer spent the most to acquire companies, it spent $217190000000.0\n"
     ]
    }
   ],
   "source": [
    "print(f\"{max_spd} spent the most to acquire companies, it spent ${num_spd}\")"
   ]
  },
  {
   "cell_type": "code",
   "execution_count": null,
   "metadata": {},
   "outputs": [],
   "source": []
  },
  {
   "cell_type": "code",
   "execution_count": null,
   "metadata": {},
   "outputs": [],
   "source": []
  },
  {
   "cell_type": "markdown",
   "metadata": {},
   "source": [
    "## 3.c. Which acquiree is the most expensive?"
   ]
  },
  {
   "cell_type": "markdown",
   "metadata": {},
   "source": [
    "top 10 most expensive companies"
   ]
  },
  {
   "cell_type": "code",
   "execution_count": 70,
   "metadata": {},
   "outputs": [
    {
     "name": "stdout",
     "output_type": "stream",
     "text": [
      "           ACQUIREE_NAME     PRICE_USD\n",
      "1450      Warner-Lambert  9.000000e+10\n",
      "3701    21st Century Fox  7.130000e+10\n",
      "1464  Wyeth Nutritionals  6.800000e+10\n",
      "4855            Spectrum  5.600000e+10\n",
      "4056            Covidien  4.290000e+10\n",
      "4302        Arm Holdings  4.000000e+10\n",
      "2957        Arm Holdings  3.402000e+10\n",
      "50               Red Hat  3.400000e+10\n",
      "3287        Virgin Media  2.330000e+10\n",
      "3283        Virgin Media  2.330000e+10\n"
     ]
    }
   ],
   "source": [
    "sorted_price = df_ACQUISITION2.sort_values(by= 'PRICE_USD', ascending=False).head(10)\n",
    "print(sorted_price[['ACQUIREE_NAME', 'PRICE_USD']])"
   ]
  },
  {
   "cell_type": "code",
   "execution_count": 71,
   "metadata": {
    "scrolled": true
   },
   "outputs": [
    {
     "data": {
      "image/png": "[encoded data removed]",
      "text/plain": [
       "<Figure size 600x400 with 1 Axes>"
      ]
     },
     "metadata": {},
     "output_type": "display_data"
    }
   ],
   "source": [
    "# Creating a bar chart for the top 10 expensive companies\n",
    "plt.figure(figsize=(6, 4))\n",
    "plt.barh(sorted_price['ACQUIREE_NAME'], sorted_price['PRICE_USD'])\n",
    "plt.title('Top 10 Acquirees by Acquisition Spend')\n",
    "plt.xlabel('Acquiree names')\n",
    "plt.ylabel('Total Spend in USD')\n",
    "plt.show()"
   ]
  },
  {
   "cell_type": "markdown",
   "metadata": {},
   "source": [
    "Now get the most expensive acquiree"
   ]
  },
  {
   "cell_type": "code",
   "execution_count": 72,
   "metadata": {},
   "outputs": [
    {
     "data": {
      "text/plain": [
       "COMPANY_NAME                 Pfizer\n",
       "ACQUIREE_NAME        Warner-Lambert\n",
       "ANNOUNCED_DATE          Feb 7, 2000\n",
       "PRICE               $90,000,000,000\n",
       "ACQUISITION_TYPE        Acquisition\n",
       "PRICE_USD             90000000000.0\n",
       "Name: 1450, dtype: object"
      ]
     },
     "execution_count": 72,
     "metadata": {},
     "output_type": "execute_result"
    }
   ],
   "source": [
    "exp_acq = df_ACQUISITION2.loc[df_ACQUISITION2['PRICE_USD'].idxmax()]\n",
    "exp_acq"
   ]
  },
  {
   "cell_type": "code",
   "execution_count": 73,
   "metadata": {},
   "outputs": [
    {
     "name": "stdout",
     "output_type": "stream",
     "text": [
      "The most expensive acquiree is Warner-Lambert, for $90000000000.0\n"
     ]
    }
   ],
   "source": [
    "print(f\"The most expensive acquiree is {exp_acq['ACQUIREE_NAME']}, for ${exp_acq['PRICE_USD']}\")"
   ]
  },
  {
   "cell_type": "code",
   "execution_count": null,
   "metadata": {},
   "outputs": [],
   "source": []
  },
  {
   "cell_type": "code",
   "execution_count": null,
   "metadata": {},
   "outputs": [],
   "source": []
  },
  {
   "cell_type": "markdown",
   "metadata": {},
   "source": [
    "# Part 4 Employee analysis"
   ]
  },
  {
   "cell_type": "markdown",
   "metadata": {},
   "source": [
    "## 4.1. Which of these companies have CEOs graduated from a QS top 20 school?"
   ]
  },
  {
   "cell_type": "code",
   "execution_count": 74,
   "metadata": {},
   "outputs": [],
   "source": [
    "df = pd.read_excel('/Users/jieyuan/Desktop/python/final project/2324MBD41_Project_Dataset-v01.xlsx',sheet_name = 'EMPLOYEE')"
   ]
  },
  {
   "cell_type": "code",
   "execution_count": 75,
   "metadata": {},
   "outputs": [
    {
     "data": {
      "text/html": [
       "<div>\n",
       "<style scoped>\n",
       "    .dataframe tbody tr th:only-of-type {\n",
       "        vertical-align: middle;\n",
       "    }\n",
       "\n",
       "    .dataframe tbody tr th {\n",
       "        vertical-align: top;\n",
       "    }\n",
       "\n",
       "    .dataframe thead th {\n",
       "        text-align: right;\n",
       "    }\n",
       "</style>\n",
       "<table border=\"1\" class=\"dataframe\">\n",
       "  <thead>\n",
       "    <tr style=\"text-align: right;\">\n",
       "      <th></th>\n",
       "      <th>EMPLOYEE_MD5</th>\n",
       "      <th>JOB_TITLES</th>\n",
       "      <th>COMPANY_NAME</th>\n",
       "      <th>ATTENDED_SCHOOLS</th>\n",
       "    </tr>\n",
       "  </thead>\n",
       "  <tbody>\n",
       "    <tr>\n",
       "      <th>0</th>\n",
       "      <td>aac4a9fe0edc50a77072eae64578a892</td>\n",
       "      <td>CEO</td>\n",
       "      <td>Twitter</td>\n",
       "      <td>NaN</td>\n",
       "    </tr>\n",
       "    <tr>\n",
       "      <th>1</th>\n",
       "      <td>f9c87bcba2ffe2237e039b2e2c86b16f</td>\n",
       "      <td>Co-Founder</td>\n",
       "      <td>Twitter</td>\n",
       "      <td>Northeastern University University of Massach...</td>\n",
       "    </tr>\n",
       "    <tr>\n",
       "      <th>2</th>\n",
       "      <td>36830ffebad9a630da8a7a03a45f2730</td>\n",
       "      <td>Team Member</td>\n",
       "      <td>Twitter</td>\n",
       "      <td>NaN</td>\n",
       "    </tr>\n",
       "    <tr>\n",
       "      <th>3</th>\n",
       "      <td>84a91ad0f9b4149759f47fdc949fed42</td>\n",
       "      <td>General Counsel</td>\n",
       "      <td>Twitter</td>\n",
       "      <td>Cornell University New York University School...</td>\n",
       "    </tr>\n",
       "    <tr>\n",
       "      <th>4</th>\n",
       "      <td>7881769fc62f54c36a687bda02b66198</td>\n",
       "      <td>VP, Trust &amp; Safety</td>\n",
       "      <td>Twitter</td>\n",
       "      <td>NaN</td>\n",
       "    </tr>\n",
       "  </tbody>\n",
       "</table>\n",
       "</div>"
      ],
      "text/plain": [
       "                       EMPLOYEE_MD5          JOB_TITLES COMPANY_NAME  \\\n",
       "0  aac4a9fe0edc50a77072eae64578a892                 CEO      Twitter   \n",
       "1  f9c87bcba2ffe2237e039b2e2c86b16f          Co-Founder      Twitter   \n",
       "2  36830ffebad9a630da8a7a03a45f2730         Team Member      Twitter   \n",
       "3  84a91ad0f9b4149759f47fdc949fed42     General Counsel      Twitter   \n",
       "4  7881769fc62f54c36a687bda02b66198  VP, Trust & Safety      Twitter   \n",
       "\n",
       "                                    ATTENDED_SCHOOLS  \n",
       "0                                                NaN  \n",
       "1   Northeastern University University of Massach...  \n",
       "2                                                NaN  \n",
       "3   Cornell University New York University School...  \n",
       "4                                                NaN  "
      ]
     },
     "execution_count": 75,
     "metadata": {},
     "output_type": "execute_result"
    }
   ],
   "source": [
    "df.head()"
   ]
  },
  {
   "cell_type": "code",
   "execution_count": 76,
   "metadata": {},
   "outputs": [
    {
     "data": {
      "text/html": [
       "<div>\n",
       "<style scoped>\n",
       "    .dataframe tbody tr th:only-of-type {\n",
       "        vertical-align: middle;\n",
       "    }\n",
       "\n",
       "    .dataframe tbody tr th {\n",
       "        vertical-align: top;\n",
       "    }\n",
       "\n",
       "    .dataframe thead th {\n",
       "        text-align: right;\n",
       "    }\n",
       "</style>\n",
       "<table border=\"1\" class=\"dataframe\">\n",
       "  <thead>\n",
       "    <tr style=\"text-align: right;\">\n",
       "      <th></th>\n",
       "      <th>EMPLOYEE_MD5</th>\n",
       "      <th>JOB_TITLES</th>\n",
       "      <th>COMPANY_NAME</th>\n",
       "      <th>ATTENDED_SCHOOLS</th>\n",
       "    </tr>\n",
       "  </thead>\n",
       "  <tbody>\n",
       "    <tr>\n",
       "      <th>0</th>\n",
       "      <td>aac4a9fe0edc50a77072eae64578a892</td>\n",
       "      <td>CEO</td>\n",
       "      <td>Twitter</td>\n",
       "      <td>NaN</td>\n",
       "    </tr>\n",
       "    <tr>\n",
       "      <th>107</th>\n",
       "      <td>1695d67dedf7d6913b77025f96b43957</td>\n",
       "      <td>CEO</td>\n",
       "      <td>Google</td>\n",
       "      <td>Indian Institute of Technology Kharagpur Stan...</td>\n",
       "    </tr>\n",
       "    <tr>\n",
       "      <th>491</th>\n",
       "      <td>f7034d0eed81c81a2ca1b9ef1c2f471b</td>\n",
       "      <td>CEO, Google Cloud</td>\n",
       "      <td>Google</td>\n",
       "      <td>Princeton University Stanford Graduate School...</td>\n",
       "    </tr>\n",
       "    <tr>\n",
       "      <th>1704</th>\n",
       "      <td>a31eaa3832e6bba75a416e7acb949678</td>\n",
       "      <td>Co-Founder &amp; CEO</td>\n",
       "      <td>Airbnb</td>\n",
       "      <td>Rhode Island School of Design</td>\n",
       "    </tr>\n",
       "    <tr>\n",
       "      <th>1844</th>\n",
       "      <td>ebcbd9c696d452830124969a587792a8</td>\n",
       "      <td>CEO and Founder</td>\n",
       "      <td>Twitch</td>\n",
       "      <td>NaN</td>\n",
       "    </tr>\n",
       "    <tr>\n",
       "      <th>...</th>\n",
       "      <td>...</td>\n",
       "      <td>...</td>\n",
       "      <td>...</td>\n",
       "      <td>...</td>\n",
       "    </tr>\n",
       "    <tr>\n",
       "      <th>20668</th>\n",
       "      <td>d4281b44c8bbc13f8bbb957a60a44a73</td>\n",
       "      <td>CEO</td>\n",
       "      <td>Animoca Brands</td>\n",
       "      <td>NaN</td>\n",
       "    </tr>\n",
       "    <tr>\n",
       "      <th>20686</th>\n",
       "      <td>dbbb2f8af8709bef5d8c5e367cf11752</td>\n",
       "      <td>CEO</td>\n",
       "      <td>HMD</td>\n",
       "      <td>NaN</td>\n",
       "    </tr>\n",
       "    <tr>\n",
       "      <th>20697</th>\n",
       "      <td>72c32150cb3f9b6e806fa530ed610175</td>\n",
       "      <td>Chairman and CEO</td>\n",
       "      <td>Iberdrola</td>\n",
       "      <td>NaN</td>\n",
       "    </tr>\n",
       "    <tr>\n",
       "      <th>20699</th>\n",
       "      <td>aae97cfe2ea38ca0609a341e984b6b57</td>\n",
       "      <td>CEO</td>\n",
       "      <td>JD Logistics</td>\n",
       "      <td>NaN</td>\n",
       "    </tr>\n",
       "    <tr>\n",
       "      <th>20701</th>\n",
       "      <td>c38442d6eaf4381a97379a05dc840f92</td>\n",
       "      <td>CEO</td>\n",
       "      <td>Citi</td>\n",
       "      <td>NaN</td>\n",
       "    </tr>\n",
       "  </tbody>\n",
       "</table>\n",
       "<p>820 rows × 4 columns</p>\n",
       "</div>"
      ],
      "text/plain": [
       "                           EMPLOYEE_MD5         JOB_TITLES    COMPANY_NAME  \\\n",
       "0      aac4a9fe0edc50a77072eae64578a892                CEO         Twitter   \n",
       "107    1695d67dedf7d6913b77025f96b43957                CEO          Google   \n",
       "491    f7034d0eed81c81a2ca1b9ef1c2f471b  CEO, Google Cloud          Google   \n",
       "1704   a31eaa3832e6bba75a416e7acb949678   Co-Founder & CEO          Airbnb   \n",
       "1844   ebcbd9c696d452830124969a587792a8    CEO and Founder          Twitch   \n",
       "...                                 ...                ...             ...   \n",
       "20668  d4281b44c8bbc13f8bbb957a60a44a73                CEO  Animoca Brands   \n",
       "20686  dbbb2f8af8709bef5d8c5e367cf11752                CEO             HMD   \n",
       "20697  72c32150cb3f9b6e806fa530ed610175   Chairman and CEO       Iberdrola   \n",
       "20699  aae97cfe2ea38ca0609a341e984b6b57                CEO    JD Logistics   \n",
       "20701  c38442d6eaf4381a97379a05dc840f92                CEO            Citi   \n",
       "\n",
       "                                        ATTENDED_SCHOOLS  \n",
       "0                                                    NaN  \n",
       "107     Indian Institute of Technology Kharagpur Stan...  \n",
       "491     Princeton University Stanford Graduate School...  \n",
       "1704                       Rhode Island School of Design  \n",
       "1844                                                 NaN  \n",
       "...                                                  ...  \n",
       "20668                                                NaN  \n",
       "20686                                                NaN  \n",
       "20697                                                NaN  \n",
       "20699                                                NaN  \n",
       "20701                                                NaN  \n",
       "\n",
       "[820 rows x 4 columns]"
      ]
     },
     "execution_count": 76,
     "metadata": {},
     "output_type": "execute_result"
    }
   ],
   "source": [
    "# get only Job tile is CEO or Chief Exacutive Officer\n",
    "s = df['JOB_TITLES']\n",
    "dfx = df[s.str.contains('CEO') | s.str.contains('Chief Exacutive Officer')]\n",
    "dfx"
   ]
  },
  {
   "cell_type": "code",
   "execution_count": 77,
   "metadata": {},
   "outputs": [
    {
     "data": {
      "text/html": [
       "<div>\n",
       "<style scoped>\n",
       "    .dataframe tbody tr th:only-of-type {\n",
       "        vertical-align: middle;\n",
       "    }\n",
       "\n",
       "    .dataframe tbody tr th {\n",
       "        vertical-align: top;\n",
       "    }\n",
       "\n",
       "    .dataframe thead th {\n",
       "        text-align: right;\n",
       "    }\n",
       "</style>\n",
       "<table border=\"1\" class=\"dataframe\">\n",
       "  <thead>\n",
       "    <tr style=\"text-align: right;\">\n",
       "      <th></th>\n",
       "      <th>EMPLOYEE_MD5</th>\n",
       "      <th>JOB_TITLES</th>\n",
       "      <th>COMPANY_NAME</th>\n",
       "      <th>ATTENDED_SCHOOLS</th>\n",
       "    </tr>\n",
       "  </thead>\n",
       "  <tbody>\n",
       "    <tr>\n",
       "      <th>107</th>\n",
       "      <td>1695d67dedf7d6913b77025f96b43957</td>\n",
       "      <td>CEO</td>\n",
       "      <td>Google</td>\n",
       "      <td>Indian Institute of Technology Kharagpur Stan...</td>\n",
       "    </tr>\n",
       "    <tr>\n",
       "      <th>491</th>\n",
       "      <td>f7034d0eed81c81a2ca1b9ef1c2f471b</td>\n",
       "      <td>CEO, Google Cloud</td>\n",
       "      <td>Google</td>\n",
       "      <td>Princeton University Stanford Graduate School...</td>\n",
       "    </tr>\n",
       "    <tr>\n",
       "      <th>1704</th>\n",
       "      <td>a31eaa3832e6bba75a416e7acb949678</td>\n",
       "      <td>Co-Founder &amp; CEO</td>\n",
       "      <td>Airbnb</td>\n",
       "      <td>Rhode Island School of Design</td>\n",
       "    </tr>\n",
       "    <tr>\n",
       "      <th>1879</th>\n",
       "      <td>5e78e4b5ec3d9b0690742153727f11f3</td>\n",
       "      <td>CEO</td>\n",
       "      <td>Apple</td>\n",
       "      <td>Duke University</td>\n",
       "    </tr>\n",
       "    <tr>\n",
       "      <th>2056</th>\n",
       "      <td>62fb041d6b3473680badf57cc54ad6fd</td>\n",
       "      <td>President &amp; CEO</td>\n",
       "      <td>Berkshire Hathaway</td>\n",
       "      <td>Columbia University University of Nebraska-Li...</td>\n",
       "    </tr>\n",
       "    <tr>\n",
       "      <th>...</th>\n",
       "      <td>...</td>\n",
       "      <td>...</td>\n",
       "      <td>...</td>\n",
       "      <td>...</td>\n",
       "    </tr>\n",
       "    <tr>\n",
       "      <th>20451</th>\n",
       "      <td>f4230b5b27433167ab5d0261070d0a13</td>\n",
       "      <td>CEO</td>\n",
       "      <td>Plug Power</td>\n",
       "      <td>Temple University</td>\n",
       "    </tr>\n",
       "    <tr>\n",
       "      <th>20556</th>\n",
       "      <td>9ba30a8d59414a15de416bf4f9ef4bae</td>\n",
       "      <td>Co-Founder &amp; CEO</td>\n",
       "      <td>Signals Analytics</td>\n",
       "      <td>IDC Herzliya</td>\n",
       "    </tr>\n",
       "    <tr>\n",
       "      <th>20559</th>\n",
       "      <td>981ab6d5e43a0e0b873a26fae6144dc0</td>\n",
       "      <td>CEO</td>\n",
       "      <td>QueQ</td>\n",
       "      <td>King Mongkut's Institute of Technology Ladkra...</td>\n",
       "    </tr>\n",
       "    <tr>\n",
       "      <th>20560</th>\n",
       "      <td>8a04925d8044276c945aac347c708752</td>\n",
       "      <td>CEO</td>\n",
       "      <td>Exclaimer</td>\n",
       "      <td>University of Greenwich</td>\n",
       "    </tr>\n",
       "    <tr>\n",
       "      <th>20621</th>\n",
       "      <td>3882f25b6c66e090914c9be27659cb5c</td>\n",
       "      <td>CEO</td>\n",
       "      <td>ViaSat</td>\n",
       "      <td>Rice University</td>\n",
       "    </tr>\n",
       "  </tbody>\n",
       "</table>\n",
       "<p>338 rows × 4 columns</p>\n",
       "</div>"
      ],
      "text/plain": [
       "                           EMPLOYEE_MD5         JOB_TITLES  \\\n",
       "107    1695d67dedf7d6913b77025f96b43957                CEO   \n",
       "491    f7034d0eed81c81a2ca1b9ef1c2f471b  CEO, Google Cloud   \n",
       "1704   a31eaa3832e6bba75a416e7acb949678   Co-Founder & CEO   \n",
       "1879   5e78e4b5ec3d9b0690742153727f11f3                CEO   \n",
       "2056   62fb041d6b3473680badf57cc54ad6fd    President & CEO   \n",
       "...                                 ...                ...   \n",
       "20451  f4230b5b27433167ab5d0261070d0a13                CEO   \n",
       "20556  9ba30a8d59414a15de416bf4f9ef4bae   Co-Founder & CEO   \n",
       "20559  981ab6d5e43a0e0b873a26fae6144dc0                CEO   \n",
       "20560  8a04925d8044276c945aac347c708752                CEO   \n",
       "20621  3882f25b6c66e090914c9be27659cb5c                CEO   \n",
       "\n",
       "             COMPANY_NAME                                   ATTENDED_SCHOOLS  \n",
       "107                Google   Indian Institute of Technology Kharagpur Stan...  \n",
       "491                Google   Princeton University Stanford Graduate School...  \n",
       "1704               Airbnb                      Rhode Island School of Design  \n",
       "1879                Apple                                    Duke University  \n",
       "2056   Berkshire Hathaway   Columbia University University of Nebraska-Li...  \n",
       "...                   ...                                                ...  \n",
       "20451          Plug Power                                  Temple University  \n",
       "20556   Signals Analytics                                       IDC Herzliya  \n",
       "20559                QueQ   King Mongkut's Institute of Technology Ladkra...  \n",
       "20560           Exclaimer                            University of Greenwich  \n",
       "20621              ViaSat                                    Rice University  \n",
       "\n",
       "[338 rows x 4 columns]"
      ]
     },
     "execution_count": 77,
     "metadata": {},
     "output_type": "execute_result"
    }
   ],
   "source": [
    "# There are NAN in attended_schools, we exclude them\n",
    "schools = dfx[dfx['ATTENDED_SCHOOLS'].notna()]\n",
    "schools"
   ]
  },
  {
   "cell_type": "code",
   "execution_count": 78,
   "metadata": {},
   "outputs": [],
   "source": [
    "QStop20 = [\"Massachusetts Institute of Technology - MIT\", \"University of Cambridge\", \"University of Oxford\", \n",
    "           \"Harvard University\", \"Stanford University\", \"Imperial College London\", \"ETH Zurich\", \n",
    "           \"National University of Singapore - NUS\", \"UCL\", \"University of California\", \"Berkeley - UCB\",\n",
    "          \"University of Chicago\", \"University of Pennsylvania\", \"Cornell University\", \"The University of Melbourne\",\n",
    "          \"California Institute of Technology - Caltech\", \"Yale University\", \"Peking University\", \"Princeton University\",\n",
    "          \"The University of New South Wales - UNSW Sydney\", \"The University of Sydney\"]"
   ]
  },
  {
   "cell_type": "code",
   "execution_count": 79,
   "metadata": {},
   "outputs": [
    {
     "data": {
      "text/html": [
       "<div>\n",
       "<style scoped>\n",
       "    .dataframe tbody tr th:only-of-type {\n",
       "        vertical-align: middle;\n",
       "    }\n",
       "\n",
       "    .dataframe tbody tr th {\n",
       "        vertical-align: top;\n",
       "    }\n",
       "\n",
       "    .dataframe thead th {\n",
       "        text-align: right;\n",
       "    }\n",
       "</style>\n",
       "<table border=\"1\" class=\"dataframe\">\n",
       "  <thead>\n",
       "    <tr style=\"text-align: right;\">\n",
       "      <th></th>\n",
       "      <th>EMPLOYEE_MD5</th>\n",
       "      <th>JOB_TITLES</th>\n",
       "      <th>COMPANY_NAME</th>\n",
       "      <th>ATTENDED_SCHOOLS</th>\n",
       "    </tr>\n",
       "  </thead>\n",
       "  <tbody>\n",
       "    <tr>\n",
       "      <th>107</th>\n",
       "      <td>1695d67dedf7d6913b77025f96b43957</td>\n",
       "      <td>CEO</td>\n",
       "      <td>Google</td>\n",
       "      <td>Indian Institute of Technology Kharagpur Stan...</td>\n",
       "    </tr>\n",
       "    <tr>\n",
       "      <th>491</th>\n",
       "      <td>f7034d0eed81c81a2ca1b9ef1c2f471b</td>\n",
       "      <td>CEO, Google Cloud</td>\n",
       "      <td>Google</td>\n",
       "      <td>Princeton University Stanford Graduate School...</td>\n",
       "    </tr>\n",
       "    <tr>\n",
       "      <th>2056</th>\n",
       "      <td>62fb041d6b3473680badf57cc54ad6fd</td>\n",
       "      <td>President &amp; CEO</td>\n",
       "      <td>Berkshire Hathaway</td>\n",
       "      <td>Columbia University University of Nebraska-Li...</td>\n",
       "    </tr>\n",
       "    <tr>\n",
       "      <th>2200</th>\n",
       "      <td>d842e52dd6f91b59518baee8e983d347</td>\n",
       "      <td>Co-Founder &amp; CEO</td>\n",
       "      <td>OpenAI</td>\n",
       "      <td>Stanford University</td>\n",
       "    </tr>\n",
       "    <tr>\n",
       "      <th>2352</th>\n",
       "      <td>28cbfc72a27fc69e11b6d1abf75c2b44</td>\n",
       "      <td>Co-Founder and CEO</td>\n",
       "      <td>Slack</td>\n",
       "      <td>University of Cambridge University of Victoria</td>\n",
       "    </tr>\n",
       "    <tr>\n",
       "      <th>...</th>\n",
       "      <td>...</td>\n",
       "      <td>...</td>\n",
       "      <td>...</td>\n",
       "      <td>...</td>\n",
       "    </tr>\n",
       "    <tr>\n",
       "      <th>20060</th>\n",
       "      <td>d41b822acb5c0c5c3bafb9312b63b359</td>\n",
       "      <td>CEO</td>\n",
       "      <td>Venafi</td>\n",
       "      <td>University of California Davis</td>\n",
       "    </tr>\n",
       "    <tr>\n",
       "      <th>20083</th>\n",
       "      <td>1c705ea1662bb333462a204913cbcf0d</td>\n",
       "      <td>Co-founder &amp; CEO</td>\n",
       "      <td>Jopwell</td>\n",
       "      <td>Yale University</td>\n",
       "    </tr>\n",
       "    <tr>\n",
       "      <th>20191</th>\n",
       "      <td>92ae809be741a2c9918eea3426448c4e</td>\n",
       "      <td>CEO &amp; GM at MuleSoft</td>\n",
       "      <td>MuleSoft</td>\n",
       "      <td>Dartmouth College University of Pennsylvania</td>\n",
       "    </tr>\n",
       "    <tr>\n",
       "      <th>20273</th>\n",
       "      <td>c16928fab0ec35cd0daf54378a1366c3</td>\n",
       "      <td>Co-Founder and CEO</td>\n",
       "      <td>eero</td>\n",
       "      <td>Stanford University</td>\n",
       "    </tr>\n",
       "    <tr>\n",
       "      <th>20424</th>\n",
       "      <td>0126c5d5f6bc22b287b0dac867118da2</td>\n",
       "      <td>CEO</td>\n",
       "      <td>Corning</td>\n",
       "      <td>Harvard University Lehigh University</td>\n",
       "    </tr>\n",
       "  </tbody>\n",
       "</table>\n",
       "<p>102 rows × 4 columns</p>\n",
       "</div>"
      ],
      "text/plain": [
       "                           EMPLOYEE_MD5            JOB_TITLES  \\\n",
       "107    1695d67dedf7d6913b77025f96b43957                   CEO   \n",
       "491    f7034d0eed81c81a2ca1b9ef1c2f471b     CEO, Google Cloud   \n",
       "2056   62fb041d6b3473680badf57cc54ad6fd       President & CEO   \n",
       "2200   d842e52dd6f91b59518baee8e983d347      Co-Founder & CEO   \n",
       "2352   28cbfc72a27fc69e11b6d1abf75c2b44    Co-Founder and CEO   \n",
       "...                                 ...                   ...   \n",
       "20060  d41b822acb5c0c5c3bafb9312b63b359                   CEO   \n",
       "20083  1c705ea1662bb333462a204913cbcf0d      Co-founder & CEO   \n",
       "20191  92ae809be741a2c9918eea3426448c4e  CEO & GM at MuleSoft   \n",
       "20273  c16928fab0ec35cd0daf54378a1366c3    Co-Founder and CEO   \n",
       "20424  0126c5d5f6bc22b287b0dac867118da2                   CEO   \n",
       "\n",
       "             COMPANY_NAME                                   ATTENDED_SCHOOLS  \n",
       "107                Google   Indian Institute of Technology Kharagpur Stan...  \n",
       "491                Google   Princeton University Stanford Graduate School...  \n",
       "2056   Berkshire Hathaway   Columbia University University of Nebraska-Li...  \n",
       "2200               OpenAI                                Stanford University  \n",
       "2352                Slack     University of Cambridge University of Victoria  \n",
       "...                   ...                                                ...  \n",
       "20060              Venafi                     University of California Davis  \n",
       "20083             Jopwell                                    Yale University  \n",
       "20191            MuleSoft       Dartmouth College University of Pennsylvania  \n",
       "20273                eero                                Stanford University  \n",
       "20424             Corning               Harvard University Lehigh University  \n",
       "\n",
       "[102 rows x 4 columns]"
      ]
     },
     "execution_count": 79,
     "metadata": {},
     "output_type": "execute_result"
    }
   ],
   "source": [
    "# get CEOs from QStop20 and their company names\n",
    "\n",
    "pattern = '|'.join(QStop20)\n",
    "\n",
    "# rows containing any of the specified parts\n",
    "mask = dfx['ATTENDED_SCHOOLS'].str.contains(pattern, case=False, na=False)\n",
    "QS20CEO = dfx[mask]\n",
    "QS20CEO"
   ]
  },
  {
   "cell_type": "code",
   "execution_count": 80,
   "metadata": {},
   "outputs": [
    {
     "name": "stdout",
     "output_type": "stream",
     "text": [
      "There are  32.01 % of company CEOs graduate from QS ranking top 20 Universities.\n"
     ]
    }
   ],
   "source": [
    "# culculate the persentage of ccompany CEOs from QS ranking 20 Universities:\n",
    "print(\"There are \", f\"{QS20CEO['COMPANY_NAME'].nunique() / schools['COMPANY_NAME'].nunique() * 100:.2f}\", \"%\", \"of company CEOs graduate from QS ranking top 20 Universities.\")\n",
    "# some company names appear more than once, we only need to culculate once\n",
    "# exclude those schools not recorded\n",
    "# round to 2 decimals"
   ]
  },
  {
   "cell_type": "code",
   "execution_count": 81,
   "metadata": {
    "scrolled": true
   },
   "outputs": [],
   "source": [
    "# list the names of companies have CEOs graduated from a QS ranking top 20 schools\n",
    "names = QS20CEO['COMPANY_NAME'].unique().tolist()"
   ]
  },
  {
   "cell_type": "code",
   "execution_count": 82,
   "metadata": {
    "scrolled": true
   },
   "outputs": [
    {
     "name": "stdout",
     "output_type": "stream",
     "text": [
      "Companies have CEOs graduated from a QS ranking top 20 schools:  Google, Berkshire Hathaway, OpenAI, Slack, Stripe, Snapdeal, Voyager Space Holdings, Amazon Web Services, Facebook, Robinhood, Netflix, QuantumScape, Nubank, CARS24, Stitch Fix, DoorDash, Roblox, Sea, Acorns, NVIDIA, Pave, Eat Just, Inc., 1mg, Microsoft, Luminar, Tesla, Ripple, Grubhub, Warby Parker, 23andMe, SoFi, Snap, Bolt, Delivery Hero, Cloudflare, Incredible Health, PubMatic, Lalamove, Silver Lake, Expanse, Wayfair, Cisco, Brex, Upwork, Workday, OurCrowd, Handshake, Indiegogo, Apollo, Butterfly Network, Teladoc, Vox Media, MicroStrategy, Babylon Health, Primer, Metromile, Honor, CodeSignal, Mulberry Platform, Landit, Lattice, Morgan Stanley, Pfizer, AppsFlyer, GoCardless, Investcorp, OutSystems, MercadoLibre, MediaMath, Lark, OneWeb, Hims, SmartAsset, Comcast, Menlo Security, Bitmain, Solv, Foursquare, Contentful, CareAcademy, Tanium, Pico, Inscripta, Porch, True Balance, Parallel Domain, OZY Media, SecurityScorecard, Rover, Mayo Clinic, Seismic, Airship, Venafi, Jopwell, MuleSoft, eero, Corning\n"
     ]
    }
   ],
   "source": [
    "print(\"Companies have CEOs graduated from a QS ranking top 20 schools: \", ', '.join(names))"
   ]
  },
  {
   "cell_type": "code",
   "execution_count": null,
   "metadata": {},
   "outputs": [],
   "source": []
  }
 ],
 "metadata": {
  "colab": {
   "provenance": []
  },
  "kernelspec": {
   "display_name": "Python 3 (ipykernel)",
   "language": "python",
   "name": "python3"
  },
  "language_info": {
   "codemirror_mode": {
    "name": "ipython",
    "version": 3
   },
   "file_extension": ".py",
   "mimetype": "text/x-python",
   "name": "python",
   "nbconvert_exporter": "python",
   "pygments_lexer": "ipython3",
   "version": "3.11.5"
  }
 },
 "nbformat": 4,
 "nbformat_minor": 1
}
